{
 "cells": [
  {
   "cell_type": "code",
   "execution_count": 2,
   "metadata": {},
   "outputs": [],
   "source": [
    "import torch\n",
    "import torch.nn as nn\n",
    "import torch.nn.functional as F\n",
    "\n",
    "import numpy as np"
   ]
  },
  {
   "cell_type": "code",
   "execution_count": 70,
   "metadata": {},
   "outputs": [
    {
     "data": {
      "text/plain": [
       "[4, 3, 3, 6]"
      ]
     },
     "execution_count": 70,
     "metadata": {},
     "output_type": "execute_result"
    }
   ],
   "source": [
    "l = list(tensor.size()[:-1])\n",
    "a = 3\n",
    "l.append(a)\n",
    "l.append(6)\n",
    "l"
   ]
  },
  {
   "cell_type": "code",
   "execution_count": 76,
   "metadata": {},
   "outputs": [
    {
     "name": "stdout",
     "output_type": "stream",
     "text": [
      "Shape originale : torch.Size([4, 3, 6])\n",
      "Nouvelle forme : torch.Size([4, 3, 3, 2])\n"
     ]
    }
   ],
   "source": [
    "import torch\n",
    "\n",
    "# Créer un tenseur de dimension (4, 3, 6)\n",
    "tensor = torch.randn(4, 3, 6)\n",
    "\n",
    "# Afficher la forme originale\n",
    "print(\"Shape originale :\", tensor.shape)\n",
    "\n",
    "a = 3\n",
    "b = 2\n",
    "# Reshape vers (4, 3, 3, 2)\n",
    "new_shape = tensor.shape[:-1]\n",
    "reshaped_tensor = tensor.view(*new_shape,a,b)\n",
    "\n",
    "# Afficher la nouvelle forme\n",
    "print(\"Nouvelle forme :\", reshaped_tensor.shape)\n"
   ]
  },
  {
   "cell_type": "code",
   "execution_count": 4,
   "metadata": {},
   "outputs": [
    {
     "name": "stderr",
     "output_type": "stream",
     "text": [
      "/var/folders/30/xs_tpbh920106747lw_q469c0000gn/T/ipykernel_18580/4085585156.py:128: UserWarning: To copy construct from a tensor, it is recommended to use sourceTensor.clone().detach() or sourceTensor.clone().detach().requires_grad_(True), rather than torch.tensor(sourceTensor).\n",
      "  return torch.tensor(norm_A)\n"
     ]
    },
    {
     "name": "stdout",
     "output_type": "stream",
     "text": [
      "Epoch [10/100], Loss: 1.0361\n",
      "Epoch [20/100], Loss: 1.0185\n",
      "Epoch [30/100], Loss: 1.0017\n",
      "Epoch [40/100], Loss: 0.9847\n",
      "Epoch [50/100], Loss: 0.9677\n",
      "Epoch [60/100], Loss: 0.9537\n",
      "Epoch [70/100], Loss: 0.9444\n",
      "Epoch [80/100], Loss: 0.9389\n",
      "Epoch [90/100], Loss: 0.9359\n",
      "Epoch [100/100], Loss: 0.9344\n",
      "Epoch [110/100], Loss: 0.9336\n",
      "Epoch [120/100], Loss: 0.9332\n",
      "Epoch [130/100], Loss: 0.9330\n",
      "Epoch [140/100], Loss: 0.9328\n",
      "Epoch [150/100], Loss: 0.9328\n",
      "Epoch [160/100], Loss: 0.9327\n",
      "Epoch [170/100], Loss: 0.9327\n",
      "Epoch [180/100], Loss: 0.9327\n",
      "Epoch [190/100], Loss: 0.9327\n",
      "Epoch [200/100], Loss: 0.9327\n"
     ]
    }
   ],
   "source": [
    "from sklearn.decomposition import PCA\n",
    "def age_reduction(X: np.array, n_components = 1):\n",
    "    \"\"\"\n",
    "    ACP in age dimension\n",
    "    Args: \n",
    "        X: np.array 3D matrix [i,t,x]\n",
    "    Returns:\n",
    "        X_p: np.array 3D matrix [i,t,x'] represents matrix of x'-st ACP components\n",
    "    \"\"\"\n",
    "    X_pca = np.empty((X.shape[0], X.shape[1], n_components))\n",
    "\n",
    "    for i in range(X.shape[0]):\n",
    "        pca = PCA(n_components= n_components)\n",
    "        X_pca[i,:,:] = pca.fit_transform(X[i,:,:])\n",
    "        print(\"The variance explained by principal components: \",pca.explained_variance_ratio_)\n",
    "\n",
    "    return X_pca\n",
    "\n",
    "\n",
    "\n",
    "\n",
    "from sklearn.cluster import KMeans\n",
    "def detect_spect_clustering(X: np.array, sigma= 0.2, n_components= 1):\n",
    "    \"\"\"\n",
    "    Algorithms of spectral clustering\n",
    "    \"\"\"\n",
    "\n",
    "    # Sigma représente le compromis de définition de similarité entre deux variables\n",
    "    country = X.shape[0]\n",
    "    time = X.shape[1]\n",
    "    age = X.shape[2]\n",
    "    X_pca = age_reduction(X, n_components)\n",
    "\n",
    "    # Initialisation de la matrice d'adjacence\n",
    "    A = np.array((country,country))\n",
    "    \n",
    "    # Calcul de la matrice d'adjacence de taille pour le clustering spectral\n",
    "    for i in range(country):\n",
    "        for j in range(country):\n",
    "            distance = np.mean((X[i,:,:]-X[j,:,:])**2)\n",
    "\n",
    "            # matrice d'adjacence basée sur la similarité gaussienne\n",
    "            A[i,j] = np.exp(- distance / (2 * sigma ** 2))\n",
    "    \n",
    "    # Matrice de dégrés \n",
    "    D = np.diag(np.sum(A, axis=1))\n",
    "\n",
    "    # Matrice de Laplace non normalisée\n",
    "    L = D - A\n",
    "\n",
    "    # Matrice de Laplace normalisée\n",
    "    L_norm = np.identity(country) - np.dot((D**(-1/2)).dot(A), D**(-1/2))\n",
    "\n",
    "    # Valeurs propres de L_norm\n",
    "    eigen_values = list(np.linalg.eigvals(L_norm))\n",
    "    eigen_values_diff = [(eigen_values[i+1]-eigen_values[i]) for i in range(len(eigen_values))]\n",
    "    k = eigen_values_diff.index(max(eigen_values_diff))+1 # +1 à cause des index qui commencent par 0 dans python\n",
    "\n",
    "    # k premiers Vecteurs propres de L_norm\n",
    "    eigen_vectors = np.linalg.eig(L_norm)[:,0:k]\n",
    "    # Normalisation sur ligne des vecteurs propres\n",
    "    eigen_vectors = eigen_vectors / np.sqrt((eigen_vectors**2).sum(axis=1)).reshape(eigen_vectors[0],1)\n",
    "    \n",
    "    # k-means sur eigen_vectors\n",
    "    # Initialiser le modèle K-Means\n",
    "    kmeans = KMeans(n_clusters=k)\n",
    "\n",
    "    # Ajuster le modèle aux données\n",
    "    kmeans.fit(eigen_vectors)\n",
    "    \n",
    "    # Prédire les classes de chaque pays\n",
    "    cluster_pays = kmeans.predict(eigen_vectors)\n",
    "\n",
    "    return cluster_pays\n",
    "\n",
    "\n",
    "def adjacency_matrix(X: np.array):\n",
    "    \"\"\"\n",
    "    Returns product of difference matrice\n",
    "    \"\"\"\n",
    "\n",
    "\n",
    "class Graphical_network_layer(nn.Module):\n",
    "    \n",
    "    def __init__(self, alpha_initializer= 0.5, beta_initializer=0.5):\n",
    "        \"\"\"\n",
    "        alpha, beta represent the initialisation of the aggregated combination parameters.\n",
    "        \"\"\"\n",
    "        super(Graphical_network_layer, self).__init__()\n",
    "        self.alpha= nn.Parameter(torch.tensor(alpha_initializer)) # Initialize by alpha_initializer\n",
    "        self.beta= nn.Parameter(torch.tensor(beta_initializer)) # Initialize by beta_initializer\n",
    "        #self.lin_without_baises = nn.Linear(in_features, out_features, bias=False)\n",
    "        #self.lin_with_baises = nn.Linear(in_features, out_features)\n",
    "        self.w_neigh = None\n",
    "        self.w_self = None\n",
    "        self.initialized = False\n",
    "        self.sigmoid = nn.Sigmoid()\n",
    "\n",
    "    def normalized_Adj_M(self, A): \n",
    "        D = torch.sum(A, dim=1)\n",
    "        norm_A = A\n",
    "        for u in range(A.shape[0]):\n",
    "            for v in range(A.shape[0]):\n",
    "                norm_A[u,v] = A[u,v] / np.sqrt(D[u]*D[v])\n",
    "\n",
    "        return torch.tensor(norm_A)\n",
    "    \n",
    "    def tensor_2D_3D_product(self, A, B):\n",
    "        a_size = A.shape\n",
    "        b_size = B.shape\n",
    "        C = torch.Tensor(b_size)\n",
    "        for i in range(a_size[0]):\n",
    "            for j in range(a_size[1]):\n",
    "                C[i] += (A[i,j] * B[j])\n",
    "    \n",
    "        return C.float()\n",
    "\n",
    "\n",
    "    def initialize_layers(self, X):\n",
    "        # Initialisation de la couche linéaire en fonction de la taille de X\n",
    "        input_size = X.shape[1]\n",
    "        self.w_neigh = nn.Parameter(torch.randn(input_size,input_size))\n",
    "        self.w_self = nn.Parameter(torch.randn(input_size,input_size))\n",
    "        self.initialized = True\n",
    "\n",
    "    def forward(self, X, A):\n",
    "        \"\"\"\n",
    "        A represents adjacency matrix with country-X-country size and type tensor\n",
    "        X represents 3D-tensor of mortality [i,t,x'] with x'=1 by default\n",
    "        \"\"\"\n",
    "        # Initialisation de la couche linéaire si elle ne l'est pas encore\n",
    "        if not self.initialized:\n",
    "            # Taille de la deuxième dimension (nombre de caractéristiques)\n",
    "            self.initialize_layers(X)\n",
    "        \n",
    "        # Message passing: A @ X (adjacency matrix multiplied by node features)\n",
    "        A_norm = self.normalized_Adj_M(A)\n",
    "        agg_1 = self.tensor_2D_3D_product(A_norm, X)\n",
    "        agg_2 = self.tensor_2D_3D_product(A, X)\n",
    "\n",
    "        aggregated = self.alpha * agg_1 + self.beta * agg_2\n",
    "        X = torch.mm(aggregated, self.w_neigh) + torch.mm(X,self.w_self)\n",
    "        X = self.sigmoid(X)\n",
    "        return X\n",
    "\n",
    "class Graphical_network(nn.Module):\n",
    "    def __init__(self, alpha_initializer= 0.5, beta_initializer=0.5):\n",
    "        super(Graphical_network, self).__init__()\n",
    "        self.gnn1 = Graphical_network_layer(alpha_initializer, beta_initializer)\n",
    "        self.gnn2 = Graphical_network_layer(alpha_initializer, beta_initializer)    \n",
    "\n",
    "    def forward(self, X, A):\n",
    "        X = self.gnn1(X, A)\n",
    "        X = self.gnn2(X, A)\n",
    "\n",
    "        return X\n",
    "    \n",
    "\n",
    "\n",
    "from torch import optim\n",
    "model = Graphical_network()\n",
    "criterion = nn.MSELoss()\n",
    "optimizer = optim.Adam(model.parameters(), lr=0.01)\n",
    "\n",
    "\n",
    "X = torch.randn((6,10))\n",
    "Y = torch.randn(6,10)\n",
    "A = torch.rand(6,6)\n",
    "# Boucle d'entraînement simple\n",
    "for epoch in range(200):\n",
    "    # Zéro le gradient\n",
    "    optimizer.zero_grad()\n",
    "    \n",
    "    # Forward pass\n",
    "    output = model(X, A)\n",
    "    \n",
    "    # Calcul de la perte\n",
    "    loss = criterion(output, Y)\n",
    "    \n",
    "    # Backward pass et optimisation\n",
    "    loss.backward()\n",
    "    optimizer.step()\n",
    "    \n",
    "    # Affichage des informations\n",
    "    if (epoch + 1) % 10 == 0:\n",
    "        print(f'Epoch [{epoch+1}/100], Loss: {loss.item():.4f}')\n",
    "\n"
   ]
  },
  {
   "cell_type": "markdown",
   "metadata": {},
   "source": [
    "L'idée est de construire un modèle de la forme \n",
    "$$ AGGREGATE^{k+1}(u) = \\alpha^u \\sum_{v \\in \\mathcal{N}(u)} A(u,v)h^{k}(v) + \\beta^u \\sum_{v \\in \\mathcal{N}(u)} \\frac{A(u,v)}{\\sqrt{D(u)D(v)}}h^{k}(v)$$\n",
    "\n",
    "Ainsi la fonction UPDATE s'écrira:\n",
    "$$h^{k+1}(u) = \\sigma \\bigg( w^u_{self} h^k(u) + w^u_{neigh} AGGREGATE^{k+1}(u) + b^{k+1} \\bigg)$$\n",
    "\n",
    "$$ H^{k+1} = \\sigma \\bigg( W_{self} H^k + W_{neigh} AGGREGATE^{k+1} + B^{k+1} \\bigg)$$\n",
    "where $W_{self}, ~W_{neigh} \\in \\mathbb{R}^{I\\times I}, ~ B^{k+1}\\in \\mathbb{R}^{I}$ and $H^k, AGGREGATE^{k+1} \\in \\mathbb{R}^{I\\times d}$, $d = X \\times T$"
   ]
  },
  {
   "cell_type": "markdown",
   "metadata": {},
   "source": []
  },
  {
   "cell_type": "code",
   "execution_count": 309,
   "metadata": {},
   "outputs": [
    {
     "data": {
      "text/plain": [
       "tensor([[[5, 4, 4, 1],\n",
       "         [9, 1, 9, 5],\n",
       "         [9, 1, 6, 4]],\n",
       "\n",
       "        [[1, 1, 6, 9],\n",
       "         [8, 7, 8, 7],\n",
       "         [8, 7, 4, 8]]])"
      ]
     },
     "execution_count": 309,
     "metadata": {},
     "output_type": "execute_result"
    }
   ],
   "source": [
    "B"
   ]
  },
  {
   "cell_type": "code",
   "execution_count": 308,
   "metadata": {},
   "outputs": [
    {
     "data": {
      "text/plain": [
       "tensor([[[ 9,  7, 12,  9],\n",
       "         [16,  5, 14, 10],\n",
       "         [12,  2, 12, 10]],\n",
       "\n",
       "        [[ 6,  9, 10, 15],\n",
       "         [16, 10, 17,  8],\n",
       "         [13, 14, 11, 10]]])"
      ]
     },
     "execution_count": 308,
     "metadata": {},
     "output_type": "execute_result"
    }
   ],
   "source": [
    "A"
   ]
  },
  {
   "cell_type": "code",
   "execution_count": 307,
   "metadata": {},
   "outputs": [],
   "source": [
    "A = torch.randint(1,10,(2,3,4))\n",
    "B = torch.randint(1,10,(2,3,4))\n",
    "A += B\n"
   ]
  },
  {
   "cell_type": "code",
   "execution_count": 312,
   "metadata": {},
   "outputs": [
    {
     "data": {
      "text/plain": [
       "tensor([[0., 0., 0.],\n",
       "        [0., 0., 0.]])"
      ]
     },
     "execution_count": 312,
     "metadata": {},
     "output_type": "execute_result"
    }
   ],
   "source": [
    "torch.Tensor(2,3)"
   ]
  },
  {
   "cell_type": "code",
   "execution_count": 342,
   "metadata": {},
   "outputs": [],
   "source": [
    "def tensor_2D_3D_product(A, B):\n",
    "    a_size = A.shape\n",
    "    b_size = B.shape\n",
    "    C = torch.Tensor(b_size)\n",
    "    for i in range(a_size[0]):\n",
    "        for j in range(a_size[1]):\n",
    "            C[i] += (A[i,j] * B[j])\n",
    "    \n",
    "    return C\n"
   ]
  },
  {
   "cell_type": "code",
   "execution_count": 347,
   "metadata": {},
   "outputs": [],
   "source": [
    "A = torch.randint(1,10,(2,2))\n",
    "B = torch.randint(1,10,(2,3,4))"
   ]
  },
  {
   "cell_type": "code",
   "execution_count": 328,
   "metadata": {},
   "outputs": [
    {
     "data": {
      "text/plain": [
       "tensor(2)"
      ]
     },
     "execution_count": 328,
     "metadata": {},
     "output_type": "execute_result"
    }
   ],
   "source": [
    "A[0,0]"
   ]
  },
  {
   "cell_type": "code",
   "execution_count": 333,
   "metadata": {},
   "outputs": [
    {
     "data": {
      "text/plain": [
       "tensor([[21, 16, 59, 26],\n",
       "        [70, 23, 79, 11],\n",
       "        [67, 49, 27, 58]])"
      ]
     },
     "execution_count": 333,
     "metadata": {},
     "output_type": "execute_result"
    }
   ],
   "source": [
    "X = A[0,0] * B[0]\n",
    "Y = A[0,1] * B[1]\n",
    "X + Y"
   ]
  },
  {
   "cell_type": "code",
   "execution_count": 348,
   "metadata": {},
   "outputs": [
    {
     "data": {
      "text/plain": [
       "(tensor([[2, 7],\n",
       "         [2, 7]]),\n",
       " tensor([[[7, 8, 5, 8],\n",
       "          [1, 5, 7, 2],\n",
       "          [7, 3, 7, 6]],\n",
       " \n",
       "         [[7, 6, 7, 2],\n",
       "          [3, 4, 9, 7],\n",
       "          [2, 7, 9, 7]]]))"
      ]
     },
     "execution_count": 348,
     "metadata": {},
     "output_type": "execute_result"
    }
   ],
   "source": [
    "A, B"
   ]
  },
  {
   "cell_type": "code",
   "execution_count": 350,
   "metadata": {},
   "outputs": [
    {
     "data": {
      "text/plain": [
       "torch.float32"
      ]
     },
     "execution_count": 350,
     "metadata": {},
     "output_type": "execute_result"
    }
   ],
   "source": [
    "C = tensor_2D_3D_product(A, B)\n",
    "C.dtype"
   ]
  },
  {
   "cell_type": "code",
   "execution_count": null,
   "metadata": {},
   "outputs": [
    {
     "data": {
      "text/plain": [
       "Parameter containing:\n",
       "tensor([[-1.0215,  0.9406,  0.5325,  0.7603, -1.7061, -0.0666, -0.5334, -0.1184,\n",
       "         -0.4390, -0.5668],\n",
       "        [-2.0167, -1.4288,  0.4689,  0.7827,  0.3904, -0.1177, -0.2944, -2.2652,\n",
       "         -1.5410,  0.1456],\n",
       "        [ 0.6358, -1.7242, -1.8332,  1.3699,  0.3630, -0.0485, -0.8340, -0.2648,\n",
       "         -0.4839,  1.8691],\n",
       "        [ 1.0166,  0.2224, -0.9532,  0.9115, -0.2092,  0.7962,  0.4190, -0.1750,\n",
       "          1.0133, -0.3754],\n",
       "        [ 0.3442,  1.4845, -0.8245, -0.3521,  0.8521,  1.0635,  0.4402, -1.2162,\n",
       "         -0.0959,  0.7787],\n",
       "        [ 1.6827, -0.9134, -0.5215,  0.7092,  0.4168,  0.6913, -0.3979, -0.5652,\n",
       "         -1.1705,  0.1293],\n",
       "        [ 1.5185, -0.4296,  0.3522, -0.4759,  0.7800,  0.1448, -0.8917, -0.1077,\n",
       "         -0.8983, -1.1843],\n",
       "        [-0.9743,  0.2692, -0.9194, -0.4835,  0.0598, -0.7733, -1.3581, -0.4387,\n",
       "          0.1597, -0.2327],\n",
       "        [ 0.8140,  1.7068, -0.5054,  0.1663,  0.8440,  0.2863, -0.7263, -2.2620,\n",
       "          0.0918, -0.3976],\n",
       "        [-1.2245,  0.3749,  0.3513,  1.5105,  2.6287,  0.2426, -0.8553, -0.3673,\n",
       "         -0.7239,  1.2458]], requires_grad=True)"
      ]
     },
     "execution_count": 265,
     "metadata": {},
     "output_type": "execute_result"
    }
   ],
   "source": [
    "model.w_neigh"
   ]
  },
  {
   "cell_type": "code",
   "execution_count": 283,
   "metadata": {},
   "outputs": [
    {
     "data": {
      "text/plain": [
       "tensor([[-0.1499, -1.5148, -0.1033,  1.3177, -0.0583, -0.3746, -1.3055, -1.3785,\n",
       "         -1.4097,  0.0832],\n",
       "        [ 0.4783, -1.8742,  0.3474,  0.4663, -0.8154, -0.9720, -0.2369, -1.4086,\n",
       "         -2.1426, -0.4109],\n",
       "        [ 0.1637, -0.6335, -0.6716,  0.8917, -0.2540,  0.0970, -2.0845, -0.5618,\n",
       "         -0.5229, -0.1319],\n",
       "        [-0.0792, -0.9863, -0.4801,  1.6137, -1.0998, -0.2113, -2.9309, -1.7056,\n",
       "         -1.3112, -0.5387],\n",
       "        [ 0.4894, -1.9175, -0.1980,  0.4472,  0.9603,  0.0459, -2.5977, -1.3449,\n",
       "         -0.6597, -0.9235],\n",
       "        [ 0.0896, -1.3882, -0.0709,  0.1615, -0.1670, -0.3998, -2.1164, -0.8646,\n",
       "         -0.1305,  0.5284]])"
      ]
     },
     "execution_count": 283,
     "metadata": {},
     "output_type": "execute_result"
    }
   ],
   "source": [
    "X = torch.randn((6,10))\n",
    "Y = torch.randn(6,10)\n",
    "A = torch.rand(6,6)\n",
    "X.shape\n",
    "A @ X\n",
    "#torch.matmul(A,X)\n"
   ]
  },
  {
   "cell_type": "code",
   "execution_count": null,
   "metadata": {},
   "outputs": [
    {
     "name": "stdout",
     "output_type": "stream",
     "text": [
      "tensor([[[ 33,  36,  39],\n",
      "         [ 75,  82,  89]],\n",
      "\n",
      "        [[183, 194, 205],\n",
      "         [249, 264, 279]]])\n"
     ]
    }
   ],
   "source": [
    "import torch\n",
    "\n",
    "# Tenseurs 3D avec des dimensions compatibles pour le produit matriciel\n",
    "A = torch.tensor([[[1, 2], [3, 4]], [[5, 6], [7, 8]]])  # Taille (2, 2, 2)\n",
    "B = torch.tensor([[[9, 10, 11], [12, 13, 14]], [[15, 16, 17], [18, 19, 20]]])  # Taille (2, 2, 3)\n",
    "\n",
    "# Produit matriciel par lots\n",
    "C = torch.matmul(A, B)\n",
    "print(C)\n"
   ]
  },
  {
   "cell_type": "code",
   "execution_count": null,
   "metadata": {},
   "outputs": [
    {
     "name": "stdout",
     "output_type": "stream",
     "text": [
      "tensor([ 6, 15])\n"
     ]
    }
   ],
   "source": [
    "import torch\n",
    "\n",
    "A = torch.tensor([[1, 2, 3], [4, 5, 6]])\n",
    "result = torch.sum(A, dim=1)\n",
    "print(result)\n"
   ]
  },
  {
   "cell_type": "code",
   "execution_count": null,
   "metadata": {},
   "outputs": [
    {
     "data": {
      "text/plain": [
       "tensor([ 6, 15])"
      ]
     },
     "execution_count": 269,
     "metadata": {},
     "output_type": "execute_result"
    }
   ],
   "source": [
    "torch.sum(A,dim=1)"
   ]
  },
  {
   "cell_type": "code",
   "execution_count": null,
   "metadata": {},
   "outputs": [
    {
     "ename": "IndexError",
     "evalue": "index 2 is out of bounds for dimension 0 with size 2",
     "output_type": "error",
     "traceback": [
      "\u001b[0;31m---------------------------------------------------------------------------\u001b[0m",
      "\u001b[0;31mIndexError\u001b[0m                                Traceback (most recent call last)",
      "Cell \u001b[0;32mIn[270], line 10\u001b[0m\n\u001b[1;32m      6\u001b[0m                 norm_A[u,v] \u001b[38;5;241m=\u001b[39m A[u,v] \u001b[38;5;241m/\u001b[39m np\u001b[38;5;241m.\u001b[39msqrt(D[u]\u001b[38;5;241m*\u001b[39mD[v])\n\u001b[1;32m      8\u001b[0m         \u001b[38;5;28;01mreturn\u001b[39;00m torch\u001b[38;5;241m.\u001b[39mtensor(norm_A)\n\u001b[0;32m---> 10\u001b[0m normalized_Adj_M(A)\n",
      "Cell \u001b[0;32mIn[270], line 6\u001b[0m, in \u001b[0;36mnormalized_Adj_M\u001b[0;34m(A)\u001b[0m\n\u001b[1;32m      4\u001b[0m \u001b[38;5;28;01mfor\u001b[39;00m u \u001b[38;5;129;01min\u001b[39;00m \u001b[38;5;28mrange\u001b[39m(A\u001b[38;5;241m.\u001b[39mshape[\u001b[38;5;241m0\u001b[39m]):\n\u001b[1;32m      5\u001b[0m     \u001b[38;5;28;01mfor\u001b[39;00m v \u001b[38;5;129;01min\u001b[39;00m \u001b[38;5;28mrange\u001b[39m(A\u001b[38;5;241m.\u001b[39mshape[\u001b[38;5;241m1\u001b[39m]):\n\u001b[0;32m----> 6\u001b[0m         norm_A[u,v] \u001b[38;5;241m=\u001b[39m A[u,v] \u001b[38;5;241m/\u001b[39m np\u001b[38;5;241m.\u001b[39msqrt(D[u]\u001b[38;5;241m*\u001b[39mD[v])\n\u001b[1;32m      8\u001b[0m \u001b[38;5;28;01mreturn\u001b[39;00m torch\u001b[38;5;241m.\u001b[39mtensor(norm_A)\n",
      "\u001b[0;31mIndexError\u001b[0m: index 2 is out of bounds for dimension 0 with size 2"
     ]
    }
   ],
   "source": [
    "def normalized_Adj_M(A): \n",
    "        D = torch.sum(A, dim=1)\n",
    "        norm_A = torch.Tensor(A.shape)\n",
    "        for u in range(A.shape[0]):\n",
    "            for v in range(A.shape[1]):\n",
    "                norm_A[u,v] = A[u,v] / np.sqrt(D[u]*D[v])\n",
    "\n",
    "        return torch.tensor(norm_A)\n",
    "\n",
    "normalized_Adj_M(A)"
   ]
  },
  {
   "cell_type": "code",
   "execution_count": null,
   "metadata": {},
   "outputs": [
    {
     "name": "stdout",
     "output_type": "stream",
     "text": [
      "The variance explained by principal components:  [0.39980585]\n",
      "The variance explained by principal components:  [0.4246952]\n",
      "The variance explained by principal components:  [0.30450474]\n",
      "The variance explained by principal components:  [0.38787823]\n",
      "The variance explained by principal components:  [0.38436763]\n",
      "The variance explained by principal components:  [0.33655318]\n"
     ]
    },
    {
     "ename": "TypeError",
     "evalue": "mean() received an invalid combination of arguments - got (out=NoneType, dtype=NoneType, axis=NoneType, ), but expected one of:\n * (*, torch.dtype dtype = None)\n * (tuple of ints dim, bool keepdim = False, *, torch.dtype dtype = None)\n * (tuple of names dim, bool keepdim = False, *, torch.dtype dtype = None)\n",
     "output_type": "error",
     "traceback": [
      "\u001b[0;31m---------------------------------------------------------------------------\u001b[0m",
      "\u001b[0;31mTypeError\u001b[0m                                 Traceback (most recent call last)",
      "Cell \u001b[0;32mIn[160], line 1\u001b[0m\n\u001b[0;32m----> 1\u001b[0m detect_spect_clustering(A)\n",
      "Cell \u001b[0;32mIn[159], line 62\u001b[0m, in \u001b[0;36mdetect_spect_clustering\u001b[0;34m(X, sigma, n_components)\u001b[0m\n\u001b[1;32m     60\u001b[0m \u001b[38;5;28;01mfor\u001b[39;00m i \u001b[38;5;129;01min\u001b[39;00m \u001b[38;5;28mrange\u001b[39m(country):\n\u001b[1;32m     61\u001b[0m     \u001b[38;5;28;01mfor\u001b[39;00m j \u001b[38;5;129;01min\u001b[39;00m \u001b[38;5;28mrange\u001b[39m(country):\n\u001b[0;32m---> 62\u001b[0m         distance \u001b[38;5;241m=\u001b[39m np\u001b[38;5;241m.\u001b[39mmean((X[i,:,:]\u001b[38;5;241m-\u001b[39mX[j,:,:])\u001b[38;5;241m*\u001b[39m\u001b[38;5;241m*\u001b[39m\u001b[38;5;241m2\u001b[39m)\n\u001b[1;32m     64\u001b[0m         \u001b[38;5;66;03m# matrice d'adjacence basée sur la similarité gaussienne\u001b[39;00m\n\u001b[1;32m     65\u001b[0m         A[i,j] \u001b[38;5;241m=\u001b[39m np\u001b[38;5;241m.\u001b[39mexp(\u001b[38;5;241m-\u001b[39m distance \u001b[38;5;241m/\u001b[39m (\u001b[38;5;241m2\u001b[39m \u001b[38;5;241m*\u001b[39m sigma \u001b[38;5;241m*\u001b[39m\u001b[38;5;241m*\u001b[39m \u001b[38;5;241m2\u001b[39m))\n",
      "File \u001b[0;32m~/anaconda3/envs/pytorch-deep/lib/python3.11/site-packages/numpy/core/fromnumeric.py:3502\u001b[0m, in \u001b[0;36mmean\u001b[0;34m(a, axis, dtype, out, keepdims, where)\u001b[0m\n\u001b[1;32m   3500\u001b[0m         \u001b[38;5;28;01mpass\u001b[39;00m\n\u001b[1;32m   3501\u001b[0m     \u001b[38;5;28;01melse\u001b[39;00m:\n\u001b[0;32m-> 3502\u001b[0m         \u001b[38;5;28;01mreturn\u001b[39;00m mean(axis\u001b[38;5;241m=\u001b[39maxis, dtype\u001b[38;5;241m=\u001b[39mdtype, out\u001b[38;5;241m=\u001b[39mout, \u001b[38;5;241m*\u001b[39m\u001b[38;5;241m*\u001b[39mkwargs)\n\u001b[1;32m   3504\u001b[0m \u001b[38;5;28;01mreturn\u001b[39;00m _methods\u001b[38;5;241m.\u001b[39m_mean(a, axis\u001b[38;5;241m=\u001b[39maxis, dtype\u001b[38;5;241m=\u001b[39mdtype,\n\u001b[1;32m   3505\u001b[0m                       out\u001b[38;5;241m=\u001b[39mout, \u001b[38;5;241m*\u001b[39m\u001b[38;5;241m*\u001b[39mkwargs)\n",
      "\u001b[0;31mTypeError\u001b[0m: mean() received an invalid combination of arguments - got (out=NoneType, dtype=NoneType, axis=NoneType, ), but expected one of:\n * (*, torch.dtype dtype = None)\n * (tuple of ints dim, bool keepdim = False, *, torch.dtype dtype = None)\n * (tuple of names dim, bool keepdim = False, *, torch.dtype dtype = None)\n"
     ]
    }
   ],
   "source": [
    "detect_spect_clustering(A)"
   ]
  },
  {
   "cell_type": "code",
   "execution_count": null,
   "metadata": {},
   "outputs": [
    {
     "ename": "TypeError",
     "evalue": "'builtin_function_or_method' object is not subscriptable",
     "output_type": "error",
     "traceback": [
      "\u001b[0;31m---------------------------------------------------------------------------\u001b[0m",
      "\u001b[0;31mTypeError\u001b[0m                                 Traceback (most recent call last)",
      "Cell \u001b[0;32mIn[153], line 1\u001b[0m\n\u001b[0;32m----> 1\u001b[0m B\u001b[38;5;241m.\u001b[39msize[\u001b[38;5;241m1\u001b[39m]\n",
      "\u001b[0;31mTypeError\u001b[0m: 'builtin_function_or_method' object is not subscriptable"
     ]
    }
   ],
   "source": [
    "B.size[1]"
   ]
  },
  {
   "cell_type": "code",
   "execution_count": null,
   "metadata": {},
   "outputs": [],
   "source": [
    "import numpy as np\n",
    "import matplotlib.pyplot as plt\n",
    "from sklearn.cluster import KMeans\n",
    "from sklearn.datasets import make_blobs\n"
   ]
  },
  {
   "cell_type": "code",
   "execution_count": null,
   "metadata": {},
   "outputs": [
    {
     "data": {
      "image/png": "[encoded data removed]",
      "text/plain": [
       "<Figure size 640x480 with 1 Axes>"
      ]
     },
     "metadata": {},
     "output_type": "display_data"
    }
   ],
   "source": [
    "# Générer des données synthétiques\n",
    "X, y_true = make_blobs(n_samples=300, centers=4, cluster_std=0.60, random_state=0)\n",
    "\n",
    "# Visualiser les données\n",
    "plt.scatter(X[:, 0], X[:, 1], s=50)\n",
    "plt.show()\n"
   ]
  },
  {
   "cell_type": "code",
   "execution_count": null,
   "metadata": {},
   "outputs": [],
   "source": [
    "# Initialiser le modèle K-Means\n",
    "kmeans = KMeans(n_clusters=4)\n",
    "\n",
    "# Ajuster le modèle aux données\n",
    "kmeans.fit(X)\n",
    "\n",
    "# Prédire les clusters\n",
    "y_kmeans = kmeans.predict(X)\n"
   ]
  },
  {
   "cell_type": "code",
   "execution_count": null,
   "metadata": {},
   "outputs": [
    {
     "data": {
      "text/plain": [
       "array([0, 0, 0, 0, 0, 0, 0, 0, 0, 0, 0, 0, 0, 0, 0, 0, 0, 0, 0, 0, 0, 0,\n",
       "       0, 0, 0, 0, 0, 0, 0, 0, 0, 0, 0, 0, 0, 0, 0, 0, 0, 0, 0, 0, 0, 0,\n",
       "       0, 0, 0, 0, 0, 0, 1, 1, 1, 1, 1, 1, 1, 1, 1, 1, 1, 1, 1, 1, 1, 1,\n",
       "       1, 1, 1, 1, 1, 1, 1, 1, 1, 1, 1, 1, 1, 1, 1, 1, 1, 1, 1, 1, 1, 1,\n",
       "       1, 1, 1, 1, 1, 1, 1, 1, 1, 1, 1, 1, 2, 2, 2, 2, 2, 2, 2, 2, 2, 2,\n",
       "       2, 2, 2, 2, 2, 2, 2, 2, 2, 2, 2, 2, 2, 2, 2, 2, 2, 2, 2, 2, 2, 2,\n",
       "       2, 2, 2, 2, 2, 2, 2, 2, 2, 2, 2, 2, 2, 2, 2, 2, 2, 2])"
      ]
     },
     "execution_count": 142,
     "metadata": {},
     "output_type": "execute_result"
    }
   ],
   "source": [
    "y"
   ]
  },
  {
   "cell_type": "code",
   "execution_count": null,
   "metadata": {},
   "outputs": [
    {
     "data": {
      "image/png": "[encoded data removed]",
      "text/plain": [
       "<Figure size 640x480 with 1 Axes>"
      ]
     },
     "metadata": {},
     "output_type": "display_data"
    }
   ],
   "source": [
    "# Visualiser les clusters\n",
    "plt.scatter(X[:, 0], X[:, 1], c=y_kmeans, s=50, cmap='viridis')\n",
    "\n",
    "# Visualiser les centres des clusters\n",
    "centers = kmeans.cluster_centers_\n",
    "plt.scatter(centers[:, 0], centers[:, 1], c='red', s=200, alpha=0.75, marker='x')\n",
    "plt.show()\n"
   ]
  },
  {
   "cell_type": "code",
   "execution_count": null,
   "metadata": {},
   "outputs": [
    {
     "data": {
      "text/plain": [
       "0.808290376865476"
      ]
     },
     "execution_count": 130,
     "metadata": {},
     "output_type": "execute_result"
    }
   ],
   "source": [
    "7 / (np.sqrt(49 + 25 + 1))"
   ]
  },
  {
   "cell_type": "code",
   "execution_count": null,
   "metadata": {},
   "outputs": [
    {
     "data": {
      "text/plain": [
       "0.11547005383792514"
      ]
     },
     "execution_count": 129,
     "metadata": {},
     "output_type": "execute_result"
    }
   ],
   "source": [
    "(A**2).sum(axis=1)\n",
    "1 / np.sqrt((A**2).sum(axis=1))[2]"
   ]
  },
  {
   "cell_type": "code",
   "execution_count": null,
   "metadata": {},
   "outputs": [
    {
     "data": {
      "text/plain": [
       "array([14, 29, 75])"
      ]
     },
     "execution_count": 133,
     "metadata": {},
     "output_type": "execute_result"
    }
   ],
   "source": [
    "(A**2).sum(axis=1)"
   ]
  },
  {
   "cell_type": "code",
   "execution_count": null,
   "metadata": {},
   "outputs": [
    {
     "data": {
      "text/plain": [
       "array([[3.74165739],\n",
       "       [5.38516481],\n",
       "       [8.66025404]])"
      ]
     },
     "execution_count": 134,
     "metadata": {},
     "output_type": "execute_result"
    }
   ],
   "source": [
    "np.sqrt((A**2).sum(axis=1)).reshape(3,1)"
   ]
  },
  {
   "cell_type": "code",
   "execution_count": null,
   "metadata": {},
   "outputs": [
    {
     "data": {
      "text/plain": [
       "array([[0.26726124, 0.53452248, 0.80178373],\n",
       "       [0.74278135, 0.37139068, 0.55708601],\n",
       "       [0.80829038, 0.57735027, 0.11547005]])"
      ]
     },
     "execution_count": 135,
     "metadata": {},
     "output_type": "execute_result"
    }
   ],
   "source": [
    "A / np.sqrt((A**2).sum(axis=1)).reshape(3,1)"
   ]
  },
  {
   "cell_type": "code",
   "execution_count": null,
   "metadata": {},
   "outputs": [],
   "source": [
    "A = A = np.array([1,2,3,4,2,3,7,5,1]).reshape((3,3))"
   ]
  },
  {
   "cell_type": "code",
   "execution_count": null,
   "metadata": {},
   "outputs": [
    {
     "name": "stdout",
     "output_type": "stream",
     "text": [
      "The variance explained by principal components:  [0.99855563 0.00144437]\n",
      "The variance explained by principal components:  [0.99855563 0.00144437]\n"
     ]
    },
    {
     "data": {
      "text/plain": [
       "(2, 5, 2)"
      ]
     },
     "execution_count": 86,
     "metadata": {},
     "output_type": "execute_result"
    }
   ],
   "source": [
    "X = [list(range(1,11)),list(range(12,22)),list(range(23,33))]\n",
    "X = np.array(X).reshape(2,5,3)\n",
    "age_reduction(X,2 ).shape"
   ]
  },
  {
   "cell_type": "code",
   "execution_count": null,
   "metadata": {},
   "outputs": [
    {
     "name": "stdout",
     "output_type": "stream",
     "text": [
      "[[0.0e+00 1.0e+10 1.0e+10]\n",
      " [1.0e+10 9.0e+00 2.5e+01]\n",
      " [1.0e+10 1.3e+01 1.8e+01]\n",
      " [1.0e+10 1.4e+01 1.7e+01]]\n"
     ]
    },
    {
     "data": {
      "text/plain": [
       "17.0"
      ]
     },
     "execution_count": 93,
     "metadata": {},
     "output_type": "execute_result"
    }
   ],
   "source": [
    "A = [1,2,3]\n",
    "B = [4,5]\n",
    "DTW(A,B)"
   ]
  },
  {
   "cell_type": "code",
   "execution_count": null,
   "metadata": {},
   "outputs": [
    {
     "data": {
      "text/plain": [
       "array([[1, 2],\n",
       "       [3, 4]])"
      ]
     },
     "execution_count": 95,
     "metadata": {},
     "output_type": "execute_result"
    }
   ],
   "source": [
    "A = np.array([1,2,3,4]).reshape((2,2))\n",
    "A"
   ]
  },
  {
   "cell_type": "code",
   "execution_count": null,
   "metadata": {},
   "outputs": [
    {
     "data": {
      "text/plain": [
       "[array([-0.37228132,  5.37228132])]"
      ]
     },
     "execution_count": 109,
     "metadata": {},
     "output_type": "execute_result"
    }
   ],
   "source": [
    "[np.linalg.eigvals(A)]"
   ]
  },
  {
   "cell_type": "code",
   "execution_count": null,
   "metadata": {},
   "outputs": [
    {
     "data": {
      "text/plain": [
       "array([[10000000000, 10000000000, 10000000000],\n",
       "       [10000000000, 10000000000, 10000000000],\n",
       "       [10000000000, 10000000000, 10000000000],\n",
       "       [10000000000, 10000000000, 10000000000]])"
      ]
     },
     "execution_count": 16,
     "metadata": {},
     "output_type": "execute_result"
    }
   ],
   "source": [
    "np.full((len(A)+1, len(B)+1), 10**10)"
   ]
  },
  {
   "cell_type": "code",
   "execution_count": null,
   "metadata": {},
   "outputs": [],
   "source": [
    "import numpy as np\n",
    "import matplotlib.pyplot as plt\n",
    "from sklearn.datasets import load_iris\n",
    "from sklearn.preprocessing import StandardScaler\n",
    "\n",
    "# Charger le jeu de données Iris\n",
    "data = load_iris()\n",
    "X = data.data  # Les caractéristiques (features)\n",
    "y = data.target  # Les étiquettes (target)\n",
    "\n",
    "# Standardiser les données\n",
    "scaler = StandardScaler()\n",
    "X_scaled = scaler.fit_transform(X)\n"
   ]
  },
  {
   "cell_type": "code",
   "execution_count": null,
   "metadata": {},
   "outputs": [
    {
     "name": "stdout",
     "output_type": "stream",
     "text": [
      "Variance expliquée par chaque composante principale: [0.72962445 0.22850762 0.03668922]\n"
     ]
    }
   ],
   "source": [
    "from sklearn.decomposition import PCA\n",
    "\n",
    "# Initialiser l'ACP et réduire les dimensions à 2 pour la visualisation\n",
    "pca = PCA(n_components=3)\n",
    "X_pca = pca.fit_transform(X_scaled)\n",
    "\n",
    "# Afficher les proportions de variance expliquée par chaque composante principale\n",
    "print(\"Variance expliquée par chaque composante principale:\", pca.explained_variance_ratio_)\n"
   ]
  },
  {
   "cell_type": "code",
   "execution_count": null,
   "metadata": {},
   "outputs": [],
   "source": []
  },
  {
   "cell_type": "code",
   "execution_count": null,
   "metadata": {},
   "outputs": [
    {
     "data": {
      "text/plain": [
       "array([[-2.26470281,  0.4800266 ],\n",
       "       [-2.08096115, -0.67413356],\n",
       "       [-2.36422905, -0.34190802],\n",
       "       [-2.29938422, -0.59739451],\n",
       "       [-2.38984217,  0.64683538],\n",
       "       [-2.07563095,  1.48917752],\n",
       "       [-2.44402884,  0.0476442 ],\n",
       "       [-2.23284716,  0.22314807],\n",
       "       [-2.33464048, -1.11532768],\n",
       "       [-2.18432817, -0.46901356],\n",
       "       [-2.1663101 ,  1.04369065],\n",
       "       [-2.32613087,  0.13307834],\n",
       "       [-2.2184509 , -0.72867617],\n",
       "       [-2.6331007 , -0.96150673],\n",
       "       [-2.1987406 ,  1.86005711],\n",
       "       [-2.26221453,  2.68628449],\n",
       "       [-2.2075877 ,  1.48360936],\n",
       "       [-2.19034951,  0.48883832],\n",
       "       [-1.898572  ,  1.40501879],\n",
       "       [-2.34336905,  1.12784938],\n",
       "       [-1.914323  ,  0.40885571],\n",
       "       [-2.20701284,  0.92412143],\n",
       "       [-2.7743447 ,  0.45834367],\n",
       "       [-1.81866953,  0.08555853],\n",
       "       [-2.22716331,  0.13725446],\n",
       "       [-1.95184633, -0.62561859],\n",
       "       [-2.05115137,  0.24216355],\n",
       "       [-2.16857717,  0.52714953],\n",
       "       [-2.13956345,  0.31321781],\n",
       "       [-2.26526149, -0.3377319 ],\n",
       "       [-2.14012214, -0.50454069],\n",
       "       [-1.83159477,  0.42369507],\n",
       "       [-2.61494794,  1.79357586],\n",
       "       [-2.44617739,  2.15072788],\n",
       "       [-2.10997488, -0.46020184],\n",
       "       [-2.2078089 , -0.2061074 ],\n",
       "       [-2.04514621,  0.66155811],\n",
       "       [-2.52733191,  0.59229277],\n",
       "       [-2.42963258, -0.90418004],\n",
       "       [-2.16971071,  0.26887896],\n",
       "       [-2.28647514,  0.44171539],\n",
       "       [-1.85812246, -2.33741516],\n",
       "       [-2.5536384 , -0.47910069],\n",
       "       [-1.96444768,  0.47232667],\n",
       "       [-2.13705901,  1.14222926],\n",
       "       [-2.0697443 , -0.71105273],\n",
       "       [-2.38473317,  1.1204297 ],\n",
       "       [-2.39437631, -0.38624687],\n",
       "       [-2.22944655,  0.99795976],\n",
       "       [-2.20383344,  0.00921636],\n",
       "       [ 1.10178118,  0.86297242],\n",
       "       [ 0.73133743,  0.59461473],\n",
       "       [ 1.24097932,  0.61629765],\n",
       "       [ 0.40748306, -1.75440399],\n",
       "       [ 1.0754747 , -0.20842105],\n",
       "       [ 0.38868734, -0.59328364],\n",
       "       [ 0.74652974,  0.77301931],\n",
       "       [-0.48732274, -1.85242909],\n",
       "       [ 0.92790164,  0.03222608],\n",
       "       [ 0.01142619, -1.03401828],\n",
       "       [-0.11019628, -2.65407282],\n",
       "       [ 0.44069345, -0.06329519],\n",
       "       [ 0.56210831, -1.76472438],\n",
       "       [ 0.71956189, -0.18622461],\n",
       "       [-0.0333547 , -0.43900321],\n",
       "       [ 0.87540719,  0.50906396],\n",
       "       [ 0.35025167, -0.19631173],\n",
       "       [ 0.15881005, -0.79209574],\n",
       "       [ 1.22509363, -1.6222438 ],\n",
       "       [ 0.1649179 , -1.30260923],\n",
       "       [ 0.73768265,  0.39657156],\n",
       "       [ 0.47628719, -0.41732028],\n",
       "       [ 1.2341781 , -0.93332573],\n",
       "       [ 0.6328582 , -0.41638772],\n",
       "       [ 0.70266118, -0.06341182],\n",
       "       [ 0.87427365,  0.25079339],\n",
       "       [ 1.25650912, -0.07725602],\n",
       "       [ 1.35840512,  0.33131168],\n",
       "       [ 0.66480037, -0.22592785],\n",
       "       [-0.04025861, -1.05871855],\n",
       "       [ 0.13079518, -1.56227183],\n",
       "       [ 0.02345269, -1.57247559],\n",
       "       [ 0.24153827, -0.77725638],\n",
       "       [ 1.06109461, -0.63384324],\n",
       "       [ 0.22397877, -0.28777351],\n",
       "       [ 0.42913912,  0.84558224],\n",
       "       [ 1.04872805,  0.5220518 ],\n",
       "       [ 1.04453138, -1.38298872],\n",
       "       [ 0.06958832, -0.21950333],\n",
       "       [ 0.28347724, -1.32932464],\n",
       "       [ 0.27907778, -1.12002852],\n",
       "       [ 0.62456979,  0.02492303],\n",
       "       [ 0.33653037, -0.98840402],\n",
       "       [-0.36218338, -2.01923787],\n",
       "       [ 0.28858624, -0.85573032],\n",
       "       [ 0.09136066, -0.18119213],\n",
       "       [ 0.22771687, -0.38492008],\n",
       "       [ 0.57638829, -0.1548736 ],\n",
       "       [-0.44766702, -1.54379203],\n",
       "       [ 0.25673059, -0.5988518 ],\n",
       "       [ 1.84456887,  0.87042131],\n",
       "       [ 1.15788161, -0.69886986],\n",
       "       [ 2.20526679,  0.56201048],\n",
       "       [ 1.44015066, -0.04698759],\n",
       "       [ 1.86781222,  0.29504482],\n",
       "       [ 2.75187334,  0.8004092 ],\n",
       "       [ 0.36701769, -1.56150289],\n",
       "       [ 2.30243944,  0.42006558],\n",
       "       [ 2.00668647, -0.71143865],\n",
       "       [ 2.25977735,  1.92101038],\n",
       "       [ 1.36417549,  0.69275645],\n",
       "       [ 1.60267867, -0.42170045],\n",
       "       [ 1.8839007 ,  0.41924965],\n",
       "       [ 1.2601151 , -1.16226042],\n",
       "       [ 1.4676452 , -0.44227159],\n",
       "       [ 1.59007732,  0.67624481],\n",
       "       [ 1.47143146,  0.25562182],\n",
       "       [ 2.42632899,  2.55666125],\n",
       "       [ 3.31069558,  0.01778095],\n",
       "       [ 1.26376667, -1.70674538],\n",
       "       [ 2.0377163 ,  0.91046741],\n",
       "       [ 0.97798073, -0.57176432],\n",
       "       [ 2.89765149,  0.41364106],\n",
       "       [ 1.33323218, -0.48181122],\n",
       "       [ 1.7007339 ,  1.01392187],\n",
       "       [ 1.95432671,  1.0077776 ],\n",
       "       [ 1.17510363, -0.31639447],\n",
       "       [ 1.02095055,  0.06434603],\n",
       "       [ 1.78834992, -0.18736121],\n",
       "       [ 1.86364755,  0.56229073],\n",
       "       [ 2.43595373,  0.25928443],\n",
       "       [ 2.30492772,  2.62632347],\n",
       "       [ 1.86270322, -0.17854949],\n",
       "       [ 1.11414774, -0.29292262],\n",
       "       [ 1.2024733 , -0.81131527],\n",
       "       [ 2.79877045,  0.85680333],\n",
       "       [ 1.57625591,  1.06858111],\n",
       "       [ 1.3462921 ,  0.42243061],\n",
       "       [ 0.92482492,  0.0172231 ],\n",
       "       [ 1.85204505,  0.67612817],\n",
       "       [ 2.01481043,  0.61388564],\n",
       "       [ 1.90178409,  0.68957549],\n",
       "       [ 1.15788161, -0.69886986],\n",
       "       [ 2.04055823,  0.8675206 ],\n",
       "       [ 1.9981471 ,  1.04916875],\n",
       "       [ 1.87050329,  0.38696608],\n",
       "       [ 1.56458048, -0.89668681],\n",
       "       [ 1.5211705 ,  0.26906914],\n",
       "       [ 1.37278779,  1.01125442],\n",
       "       [ 0.96065603, -0.02433167]])"
      ]
     },
     "execution_count": 17,
     "metadata": {},
     "output_type": "execute_result"
    }
   ],
   "source": [
    "X_pca[:,0:2]"
   ]
  },
  {
   "cell_type": "code",
   "execution_count": null,
   "metadata": {},
   "outputs": [
    {
     "data": {
      "image/png": "[encoded data removed]",
      "text/plain": [
       "<Figure size 800x600 with 1 Axes>"
      ]
     },
     "metadata": {},
     "output_type": "display_data"
    }
   ],
   "source": [
    "# Visualiser les données projetées dans l'espace des composantes principales\n",
    "plt.figure(figsize=(8, 6))\n",
    "for label, color in zip([0, 1, 2], ['red', 'blue', 'green']):\n",
    "    plt.scatter(X_pca[y == label, 0], X_pca[y == label, 1], label=data.target_names[label], color=color)\n",
    "\n",
    "plt.xlabel('Composante principale 1')\n",
    "plt.ylabel('Composante principale 2')\n",
    "plt.title(\"Projection des données par ACP\")\n",
    "plt.legend()\n",
    "plt.show()\n"
   ]
  },
  {
   "cell_type": "code",
   "execution_count": null,
   "metadata": {},
   "outputs": [
    {
     "name": "stdout",
     "output_type": "stream",
     "text": [
      "Epoch [10/100], Loss: 0.7474, Alpha: 1.2359, Beta: 2.0132\n",
      "Epoch [20/100], Loss: 0.6377, Alpha: 1.3324, Beta: 1.9740\n",
      "Epoch [30/100], Loss: 0.5441, Alpha: 1.4215, Beta: 1.9379\n",
      "Epoch [40/100], Loss: 0.4642, Alpha: 1.5037, Beta: 1.9045\n",
      "Epoch [50/100], Loss: 0.3961, Alpha: 1.5797, Beta: 1.8736\n",
      "Epoch [60/100], Loss: 0.3380, Alpha: 1.6500, Beta: 1.8451\n",
      "Epoch [70/100], Loss: 0.2884, Alpha: 1.7148, Beta: 1.8188\n",
      "Epoch [80/100], Loss: 0.2460, Alpha: 1.7747, Beta: 1.7945\n",
      "Epoch [90/100], Loss: 0.2099, Alpha: 1.8300, Beta: 1.7720\n",
      "Epoch [100/100], Loss: 0.1791, Alpha: 1.8812, Beta: 1.7512\n"
     ]
    }
   ],
   "source": [
    "import torch\n",
    "import torch.nn as nn\n",
    "import torch.optim as optim\n",
    "\n",
    "class LinearCombinationModel(nn.Module):\n",
    "    def __init__(self):\n",
    "        super(LinearCombinationModel, self).__init__()\n",
    "        # Initialiser alpha et beta comme des paramètres entraînables\n",
    "        self.alpha = nn.Parameter(torch.tensor(0.5))  # Initialisé à 0.5\n",
    "        self.beta = nn.Parameter(torch.tensor(0.5))   # Initialisé à 0.5\n",
    "\n",
    "    def forward(self, A, B):\n",
    "        # Combinaison linéaire de A et B\n",
    "        C = self.alpha * A + self.beta * B\n",
    "        return C\n",
    "\n",
    "\n",
    "# Initialiser les matrices (exemple avec des matrices 2x2)\n",
    "A = torch.tensor([[1.0, 2.0], [3.0, 4.0]])\n",
    "B = torch.tensor([[5.0, 6.0], [7.0, 8.0]])\n",
    "\n",
    "# Créer une instance du modèle\n",
    "model = LinearCombinationModel()\n",
    "\n",
    "# Définir une fonction de perte (par exemple, la MSE pour un exemple simple)\n",
    "criterion = nn.MSELoss()\n",
    "\n",
    "# Optimiseur (par exemple, SGD)\n",
    "optimizer = optim.SGD(model.parameters(), lr=0.01)\n",
    "\n",
    "# Exemple de cible (pour l'entraînement)\n",
    "target = torch.tensor([[10.0, 14.0], [18.0, 22.0]])\n",
    "\n",
    "# Boucle d'entraînement simple\n",
    "for epoch in range(100):\n",
    "    # Zéro le gradient\n",
    "    optimizer.zero_grad()\n",
    "    \n",
    "    # Forward pass\n",
    "    output = model(A, B)\n",
    "    \n",
    "    # Calcul de la perte\n",
    "    loss = criterion(output, target)\n",
    "    \n",
    "    # Backward pass et optimisation\n",
    "    loss.backward()\n",
    "    optimizer.step()\n",
    "    \n",
    "    # Affichage des informations\n",
    "    if (epoch + 1) % 10 == 0:\n",
    "        print(f'Epoch [{epoch+1}/100], Loss: {loss.item():.4f}, Alpha: {model.alpha.item():.4f}, Beta: {model.beta.item():.4f}')\n"
   ]
  }
 ],
 "metadata": {
  "kernelspec": {
   "display_name": "pytorch-deep",
   "language": "python",
   "name": "python3"
  },
  "language_info": {
   "codemirror_mode": {
    "name": "ipython",
    "version": 3
   },
   "file_extension": ".py",
   "mimetype": "text/x-python",
   "name": "python",
   "nbconvert_exporter": "python",
   "pygments_lexer": "ipython3",
   "version": "3.11.9"
  }
 },
 "nbformat": 4,
 "nbformat_minor": 2
}
