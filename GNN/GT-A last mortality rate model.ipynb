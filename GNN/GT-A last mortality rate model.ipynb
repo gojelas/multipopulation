{
 "cells": [
  {
   "cell_type": "markdown",
   "metadata": {},
   "source": [
    "En faisant le produit avec la matrice adaptative si jamais un pays se retrouve seul dans une classe, toute la colonne de cette classe se retrouve à zéro."
   ]
  },
  {
   "cell_type": "code",
   "execution_count": 1,
   "metadata": {},
   "outputs": [],
   "source": [
    "import torch\n",
    "import torch.nn as nn\n",
    "import torch.nn.functional as F\n",
    "from adjency_matrix import AdaptativeMatrix, DTW,AgeReduction\n",
    "import numpy as np\n",
    "from sklearn.cluster import KMeans\n",
    "import pandas as pd\n",
    "from sklearn.decomposition import PCA"
   ]
  },
  {
   "cell_type": "code",
   "execution_count": 2,
   "metadata": {},
   "outputs": [],
   "source": [
    "AM = AdaptativeMatrix()\n",
    "dtw = DTW()\n",
    "AR = AgeReduction()"
   ]
  },
  {
   "cell_type": "code",
   "execution_count": 24,
   "metadata": {},
   "outputs": [],
   "source": [
    "def adjency_matrix(X: torch.Tensor, coord_countries: torch.Tensor):\n",
    "    \"\"\"\n",
    "    X is 3D tensor\n",
    "    coord_countries is 2D matrix contains longitude and latitude of each country. 1st column represents long and 2nd represents lat\n",
    "    \"\"\"\n",
    "    n_countries  = X.shape[0]\n",
    "    clusters = AM.adaptative_matrix(X)\n",
    "    dtw_matrix = dtw.DTW_Matrix(X)\n",
    "    long_lat_matrix = np.empty((n_countries, n_countries))\n",
    "    for i in range(n_countries):\n",
    "        for j in range(n_countries):\n",
    "            long_lat_matrix[i,j] = torch.sqrt(torch.mean((coord_countries[i]-coord_countries[j])**2))\n",
    "    \n",
    "    # \n",
    "    adjency_mat = dtw_matrix * long_lat_matrix\n",
    "    #print(\"adj_brut_matrix \\n\",adjency_mat)\n",
    "    for i in range(n_countries):\n",
    "        for j in range(n_countries):\n",
    "            if clusters[i] != clusters[j]:\n",
    "                adjency_mat[i,j] = 0.005\n",
    "    \n",
    "    #print(\"long_lat \\n\",long_lat_matrix)\n",
    "    print(\"clusters \\n\",clusters)\n",
    "    return adjency_mat\n"
   ]
  },
  {
   "cell_type": "code",
   "execution_count": 25,
   "metadata": {},
   "outputs": [],
   "source": [
    "coord_countries = torch.rand(8,2)\n",
    "X = torch.rand((8,5,3))"
   ]
  },
  {
   "cell_type": "code",
   "execution_count": 32,
   "metadata": {},
   "outputs": [
    {
     "name": "stdout",
     "output_type": "stream",
     "text": [
      "The variance explained by principal components:  [0.75297127]\n",
      "The variance explained by principal components:  [0.52076656]\n",
      "The variance explained by principal components:  [0.76120859]\n",
      "The variance explained by principal components:  [0.82852733]\n",
      "The variance explained by principal components:  [0.76143834]\n",
      "The variance explained by principal components:  [0.73838258]\n",
      "The variance explained by principal components:  [0.40042795]\n",
      "The variance explained by principal components:  [0.62651635]\n",
      "The variance explained by principal components:  [0.75297127]\n",
      "The variance explained by principal components:  [0.52076656]\n",
      "The variance explained by principal components:  [0.76120859]\n",
      "The variance explained by principal components:  [0.82852733]\n",
      "The variance explained by principal components:  [0.76143834]\n",
      "The variance explained by principal components:  [0.73838258]\n",
      "The variance explained by principal components:  [0.40042795]\n",
      "The variance explained by principal components:  [0.62651635]\n",
      "clusters \n",
      " [0 2 1 0 0 1 0 2]\n"
     ]
    },
    {
     "data": {
      "text/plain": [
       "tensor([[0.0000, 0.0050, 0.0050, 0.3926, 0.2782, 0.0050, 0.4142, 0.0050],\n",
       "        [0.0050, 0.0000, 0.0050, 0.0050, 0.0050, 0.0050, 0.0050, 0.1196],\n",
       "        [0.0050, 0.0050, 0.0000, 0.0050, 0.0050, 0.1616, 0.0050, 0.0050],\n",
       "        [0.3926, 0.0050, 0.0050, 0.0000, 0.1840, 0.0050, 0.1971, 0.0050],\n",
       "        [0.2782, 0.0050, 0.0050, 0.1840, 0.0000, 0.0050, 0.1523, 0.0050],\n",
       "        [0.0050, 0.0050, 0.1616, 0.0050, 0.0050, 0.0000, 0.0050, 0.0050],\n",
       "        [0.4142, 0.0050, 0.0050, 0.1971, 0.1523, 0.0050, 0.0000, 0.0050],\n",
       "        [0.0050, 0.1196, 0.0050, 0.0050, 0.0050, 0.0050, 0.0050, 0.0000]],\n",
       "       dtype=torch.float64)"
      ]
     },
     "execution_count": 32,
     "metadata": {},
     "output_type": "execute_result"
    }
   ],
   "source": [
    "adjency_matrix(X,coord_countries)"
   ]
  },
  {
   "cell_type": "code",
   "execution_count": null,
   "metadata": {},
   "outputs": [],
   "source": []
  },
  {
   "cell_type": "code",
   "execution_count": null,
   "metadata": {},
   "outputs": [],
   "source": []
  },
  {
   "cell_type": "code",
   "execution_count": null,
   "metadata": {},
   "outputs": [],
   "source": []
  }
 ],
 "metadata": {
  "kernelspec": {
   "display_name": "pytorch-deep",
   "language": "python",
   "name": "python3"
  },
  "language_info": {
   "codemirror_mode": {
    "name": "ipython",
    "version": 3
   },
   "file_extension": ".py",
   "mimetype": "text/x-python",
   "name": "python",
   "nbconvert_exporter": "python",
   "pygments_lexer": "ipython3",
   "version": "3.11.9"
  }
 },
 "nbformat": 4,
 "nbformat_minor": 2
}
