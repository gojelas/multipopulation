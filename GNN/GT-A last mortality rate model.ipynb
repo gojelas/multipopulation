{
 "cells": [
  {
   "cell_type": "markdown",
   "metadata": {},
   "source": [
    "En faisant le produit avec la matrice adaptative si jamais un pays se retrouve seul dans une classe, toute la colonne de cette classe se retrouve à zéro."
   ]
  },
  {
   "cell_type": "code",
   "execution_count": 3,
   "metadata": {},
   "outputs": [],
   "source": [
    "import torch\n",
    "import torch.nn as nn\n",
    "import torch.nn.functional as F\n",
    "\n",
    "import numpy as np\n",
    "from sklearn.cluster import KMeans\n",
    "import pandas as pd\n",
    "from sklearn.decomposition import PCA\n",
    "\n",
    "from adjency_matrix import AdaptativeMatrix, DTW,AgeReduction\n",
    "from gt_a_model import GCNLayer, GCNMultiLayer, Encoder"
   ]
  },
  {
   "cell_type": "code",
   "execution_count": 2,
   "metadata": {},
   "outputs": [],
   "source": [
    "AM = AdaptativeMatrix()\n",
    "dtw = DTW()\n",
    "AR = AgeReduction()"
   ]
  },
  {
   "cell_type": "code",
   "execution_count": 24,
   "metadata": {},
   "outputs": [],
   "source": [
    "def adjency_matrix(X: torch.Tensor, coord_countries: torch.Tensor):\n",
    "    \"\"\"\n",
    "    X is 3D tensor\n",
    "    coord_countries is 2D matrix contains longitude and latitude of each country. 1st column represents long and 2nd represents lat\n",
    "    \"\"\"\n",
    "    n_countries  = X.shape[0]\n",
    "    clusters = AM.adaptative_matrix(X)\n",
    "    dtw_matrix = dtw.DTW_Matrix(X)\n",
    "    long_lat_matrix = np.empty((n_countries, n_countries))\n",
    "    for i in range(n_countries):\n",
    "        for j in range(n_countries):\n",
    "            long_lat_matrix[i,j] = torch.sqrt(torch.mean((coord_countries[i]-coord_countries[j])**2))\n",
    "    \n",
    "    # \n",
    "    adjency_mat = dtw_matrix * long_lat_matrix\n",
    "    #print(\"adj_brut_matrix \\n\",adjency_mat)\n",
    "    for i in range(n_countries):\n",
    "        for j in range(n_countries):\n",
    "            if clusters[i] != clusters[j]:\n",
    "                adjency_mat[i,j] = 0.005\n",
    "    \n",
    "    #print(\"long_lat \\n\",long_lat_matrix)\n",
    "    print(\"clusters \\n\",clusters)\n",
    "    return adjency_mat\n"
   ]
  },
  {
   "cell_type": "code",
   "execution_count": 25,
   "metadata": {},
   "outputs": [],
   "source": [
    "coord_countries = torch.rand(8,2)\n",
    "X = torch.rand((8,5,3))"
   ]
  },
  {
   "cell_type": "code",
   "execution_count": 32,
   "metadata": {},
   "outputs": [
    {
     "name": "stdout",
     "output_type": "stream",
     "text": [
      "The variance explained by principal components:  [0.75297127]\n",
      "The variance explained by principal components:  [0.52076656]\n",
      "The variance explained by principal components:  [0.76120859]\n",
      "The variance explained by principal components:  [0.82852733]\n",
      "The variance explained by principal components:  [0.76143834]\n",
      "The variance explained by principal components:  [0.73838258]\n",
      "The variance explained by principal components:  [0.40042795]\n",
      "The variance explained by principal components:  [0.62651635]\n",
      "The variance explained by principal components:  [0.75297127]\n",
      "The variance explained by principal components:  [0.52076656]\n",
      "The variance explained by principal components:  [0.76120859]\n",
      "The variance explained by principal components:  [0.82852733]\n",
      "The variance explained by principal components:  [0.76143834]\n",
      "The variance explained by principal components:  [0.73838258]\n",
      "The variance explained by principal components:  [0.40042795]\n",
      "The variance explained by principal components:  [0.62651635]\n",
      "clusters \n",
      " [0 2 1 0 0 1 0 2]\n"
     ]
    },
    {
     "data": {
      "text/plain": [
       "tensor([[0.0000, 0.0050, 0.0050, 0.3926, 0.2782, 0.0050, 0.4142, 0.0050],\n",
       "        [0.0050, 0.0000, 0.0050, 0.0050, 0.0050, 0.0050, 0.0050, 0.1196],\n",
       "        [0.0050, 0.0050, 0.0000, 0.0050, 0.0050, 0.1616, 0.0050, 0.0050],\n",
       "        [0.3926, 0.0050, 0.0050, 0.0000, 0.1840, 0.0050, 0.1971, 0.0050],\n",
       "        [0.2782, 0.0050, 0.0050, 0.1840, 0.0000, 0.0050, 0.1523, 0.0050],\n",
       "        [0.0050, 0.0050, 0.1616, 0.0050, 0.0050, 0.0000, 0.0050, 0.0050],\n",
       "        [0.4142, 0.0050, 0.0050, 0.1971, 0.1523, 0.0050, 0.0000, 0.0050],\n",
       "        [0.0050, 0.1196, 0.0050, 0.0050, 0.0050, 0.0050, 0.0050, 0.0000]],\n",
       "       dtype=torch.float64)"
      ]
     },
     "execution_count": 32,
     "metadata": {},
     "output_type": "execute_result"
    }
   ],
   "source": [
    "adjency_matrix(X,coord_countries)"
   ]
  },
  {
   "cell_type": "code",
   "execution_count": null,
   "metadata": {},
   "outputs": [],
   "source": []
  },
  {
   "cell_type": "markdown",
   "metadata": {},
   "source": [
    "### 2) Importation des données de mortalité\n"
   ]
  },
  {
   "cell_type": "code",
   "execution_count": 83,
   "metadata": {},
   "outputs": [],
   "source": [
    "### import mortality data for the different countries\n",
    "import os\n",
    " \n",
    "directory = '/Users/gojelastat/Desktop/Thèse/Projet 2/Données/Données GT-A'\n",
    "data={}\n",
    "for filename in os.listdir(directory):\n",
    "    f = os.path.join(directory, filename)\n",
    "    if os.path.isfile(f) and filename.endswith('.txt'):\n",
    "        data[filename.split('.')[0]]=pd.read_csv(f,header=1,delimiter=\"\\s+\") ### filename.split('.')[0] split the name by . and recover the code of the country\n",
    "        ### in this line, we fill the dictionary \"data\" with the different data of country and their code"
   ]
  },
  {
   "cell_type": "code",
   "execution_count": 84,
   "metadata": {},
   "outputs": [
    {
     "data": {
      "text/plain": [
       "23"
      ]
     },
     "execution_count": 84,
     "metadata": {},
     "output_type": "execute_result"
    }
   ],
   "source": [
    "len(data.keys())"
   ]
  },
  {
   "cell_type": "markdown",
   "metadata": {},
   "source": [
    "### 3) Mettre les données au format adéquat \n",
    "C'est-à-dire sous forme de tenseur de taille M x T x A où M est le nombre de pays, T est la dimension du temps et A est la dimension de l'âge. Rappelons que ceci est fait pour s'adapter au cadre d'implémentation du modèle GT-A et ici on travaille avec les données des **hommes**"
   ]
  },
  {
   "cell_type": "code",
   "execution_count": 85,
   "metadata": {},
   "outputs": [],
   "source": [
    "#fonction permettant de transformer les données dans la bonne numérisation\n",
    "def __data_load(data):\n",
    "    columns=data.columns\n",
    "    data['Age']=np.where(data['Age']!='110+',data['Age'],111)\n",
    "    for col in columns:\n",
    "        data[col]=np.where(data[col]!='.',data[col],9999)\n",
    "        data[col]=pd.to_numeric(data[col])\n",
    "\n",
    "    data=data[data['Age']<100]\n",
    "    data=data[data['Year']>=1950]\n",
    "    data=data[data['Year']<=2010]\n",
    "\n",
    "    #df_min=np.min(data['Male'])\n",
    "    #df_max=np.max(data['Male'])\n",
    "\n",
    "    #data['Male']=(data['Male']-df_min)/(df_max-df_min)\n",
    "    data.index=np.arange(data.shape[0])  ### renommer les index de 0 jusqu'à la taille de data\n",
    "    return data#,df_min,df_max\n",
    "\n",
    "\n",
    "\n",
    "### Transform the based dataset to matrix of mortality rates of male people in this case. \n",
    "#The matrix has age on row and year on columns\n",
    "def __data_reshaping(data,Gender=\"Male\"):\n",
    "    data=__data_load(data)\n",
    "    mat=pd.DataFrame(index=np.unique(data['Age']),columns=np.unique(data['Year']))\n",
    "    n=0\n",
    "    for j in range(mat.shape[1]):\n",
    "        for i in range(mat.shape[0]):\n",
    "            mat.iloc[mat.index[i],mat.index[j]]=data.loc[n+i,Gender]\n",
    "        n=n+mat.shape[0]\n",
    "    years=np.arange(1950,(1950+mat.shape[1]))\n",
    "    ages=np.arange(0,(mat.shape[0]))\n",
    "\n",
    "    #for col in years:\n",
    "    #    mat[col]=pd.to_numeric(mat[col])\n",
    "    return np.array(mat.T, dtype=np.float32) # ici on essaie de convertir en un tableau floattant, la transposée c'est parce que le code\n",
    "    # était fait pour sortir une matrice de taille A x T.\n",
    "\n"
   ]
  },
  {
   "cell_type": "code",
   "execution_count": 86,
   "metadata": {},
   "outputs": [],
   "source": [
    "T = 2010 - 1950 + 1\n",
    "A = 99 - 0 + 1\n",
    "X = torch.FloatTensor(len(data.keys()), T, A)\n",
    "\n",
    "countries = data.keys()\n",
    "for i,country in enumerate(countries):\n",
    "    X[i]= torch.tensor(__data_reshaping(data[country]))"
   ]
  },
  {
   "cell_type": "code",
   "execution_count": 96,
   "metadata": {},
   "outputs": [
    {
     "data": {
      "text/plain": [
       "dict_keys(['PRT', 'GBR_NP', 'BEL', 'AUS', 'ESP', 'ISL', 'AUT', 'NZL_NP', 'HUN', 'FRACNP', 'NLD', 'UK', 'DNK', 'USA', 'JPN', 'SWE', 'FIN', 'CZE', 'ITA', 'BGR', 'SVK', 'IRL', 'CAN'])"
      ]
     },
     "execution_count": 96,
     "metadata": {},
     "output_type": "execute_result"
    }
   ],
   "source": [
    "data.keys()"
   ]
  },
  {
   "cell_type": "markdown",
   "metadata": {},
   "source": [
    "#### Coordonnées géographique des pays \n",
    "Ici on oriente le globe en un repère orthonormé avec l'axe des abscisses orienté vers l'Est et l'axe des ordonnées orienté vers le Nord. Ces coordonnées ont été pris sur wikipédia. Dans la base de données HMD, il y a la base de données par régions du UK et pour toute la population UK. On a choisi d'utiliser la base du UK total."
   ]
  },
  {
   "cell_type": "code",
   "execution_count": 73,
   "metadata": {},
   "outputs": [
    {
     "data": {
      "text/html": [
       "<div>\n",
       "<style scoped>\n",
       "    .dataframe tbody tr th:only-of-type {\n",
       "        vertical-align: middle;\n",
       "    }\n",
       "\n",
       "    .dataframe tbody tr th {\n",
       "        vertical-align: top;\n",
       "    }\n",
       "\n",
       "    .dataframe thead th {\n",
       "        text-align: right;\n",
       "    }\n",
       "</style>\n",
       "<table border=\"1\" class=\"dataframe\">\n",
       "  <thead>\n",
       "    <tr style=\"text-align: right;\">\n",
       "      <th></th>\n",
       "      <th>Latitude</th>\n",
       "      <th>Longitude</th>\n",
       "    </tr>\n",
       "  </thead>\n",
       "  <tbody>\n",
       "    <tr>\n",
       "      <th>GBR_NP</th>\n",
       "      <td>54.0</td>\n",
       "      <td>-2.3</td>\n",
       "    </tr>\n",
       "    <tr>\n",
       "      <th>AUS</th>\n",
       "      <td>-27.0</td>\n",
       "      <td>133.0</td>\n",
       "    </tr>\n",
       "    <tr>\n",
       "      <th>ISL</th>\n",
       "      <td>65.0</td>\n",
       "      <td>-18.0</td>\n",
       "    </tr>\n",
       "    <tr>\n",
       "      <th>AUT</th>\n",
       "      <td>47.2</td>\n",
       "      <td>13.2</td>\n",
       "    </tr>\n",
       "    <tr>\n",
       "      <th>NZL_NP</th>\n",
       "      <td>-41.0</td>\n",
       "      <td>174.0</td>\n",
       "    </tr>\n",
       "    <tr>\n",
       "      <th>HUN</th>\n",
       "      <td>47.0</td>\n",
       "      <td>20.0</td>\n",
       "    </tr>\n",
       "    <tr>\n",
       "      <th>DNK</th>\n",
       "      <td>56.0</td>\n",
       "      <td>10.0</td>\n",
       "    </tr>\n",
       "    <tr>\n",
       "      <th>USA</th>\n",
       "      <td>38.0</td>\n",
       "      <td>-97.0</td>\n",
       "    </tr>\n",
       "    <tr>\n",
       "      <th>JPN</th>\n",
       "      <td>36.0</td>\n",
       "      <td>138.0</td>\n",
       "    </tr>\n",
       "    <tr>\n",
       "      <th>SWE</th>\n",
       "      <td>62.0</td>\n",
       "      <td>15.0</td>\n",
       "    </tr>\n",
       "    <tr>\n",
       "      <th>FIN</th>\n",
       "      <td>64.0</td>\n",
       "      <td>26.0</td>\n",
       "    </tr>\n",
       "    <tr>\n",
       "      <th>CZE</th>\n",
       "      <td>49.0</td>\n",
       "      <td>15.0</td>\n",
       "    </tr>\n",
       "    <tr>\n",
       "      <th>BGR</th>\n",
       "      <td>43.0</td>\n",
       "      <td>25.0</td>\n",
       "    </tr>\n",
       "    <tr>\n",
       "      <th>SVK</th>\n",
       "      <td>48.4</td>\n",
       "      <td>19.3</td>\n",
       "    </tr>\n",
       "    <tr>\n",
       "      <th>IRL</th>\n",
       "      <td>53.0</td>\n",
       "      <td>-8.0</td>\n",
       "    </tr>\n",
       "    <tr>\n",
       "      <th>CAN</th>\n",
       "      <td>60.0</td>\n",
       "      <td>-95.0</td>\n",
       "    </tr>\n",
       "  </tbody>\n",
       "</table>\n",
       "</div>"
      ],
      "text/plain": [
       "        Latitude  Longitude\n",
       "GBR_NP      54.0       -2.3\n",
       "AUS        -27.0      133.0\n",
       "ISL         65.0      -18.0\n",
       "AUT         47.2       13.2\n",
       "NZL_NP     -41.0      174.0\n",
       "HUN         47.0       20.0\n",
       "DNK         56.0       10.0\n",
       "USA         38.0      -97.0\n",
       "JPN         36.0      138.0\n",
       "SWE         62.0       15.0\n",
       "FIN         64.0       26.0\n",
       "CZE         49.0       15.0\n",
       "BGR         43.0       25.0\n",
       "SVK         48.4       19.3\n",
       "IRL         53.0       -8.0\n",
       "CAN         60.0      -95.0"
      ]
     },
     "execution_count": 73,
     "metadata": {},
     "output_type": "execute_result"
    }
   ],
   "source": [
    "country = ['AUT','AUS','GBR_NP','ISL','NZL_NP', 'HUN', 'DNK', 'USA', 'JPN',\n",
    "           'SWE', 'FIN', 'CZE', 'BGR', 'SVK', 'IRL', 'CAN', 'PRT', 'BEL', 'ESP',\n",
    "           'FRA', 'NLD', 'ITA']\n",
    "coord = np.array([[47.20, 13.20],[-27.00, 133.00], [54.00, -2.30], [65.00, -18.00],\n",
    "                 [-41.00, 174.00], [47.00, 20.00], [56.00, 10.00], [38.00, -97.00],\n",
    "                 [36.00, 138.00], [62.00, 15.00], [64.00, 26.00], [49.00, 15.00],\n",
    "                 [43.00, 25.00], [48.40, 19.30], [53.00, -8.00], [60.00, -95.00],\n",
    "                 [39.30, -8.00], [50.50, 4.00], [40.00, -4.00], [47.00, 2.00], \n",
    "                 [51.55, 5.34]])\n",
    "\n",
    "geo_coord = pd.DataFrame(coord, index=country, columns=['Latitude', 'Longitude'])\n",
    "geo_coord = geo_coord.loc[list(data.keys())]\n",
    "geo_coord"
   ]
  },
  {
   "cell_type": "markdown",
   "metadata": {},
   "source": [
    "### 4) Calcul de la matrice $A_{lat-long}$"
   ]
  },
  {
   "cell_type": "code",
   "execution_count": 77,
   "metadata": {},
   "outputs": [
    {
     "data": {
      "text/plain": [
       "483.08"
      ]
     },
     "execution_count": 77,
     "metadata": {},
     "output_type": "execute_result"
    }
   ],
   "source": [
    "np.sum((geo_coord.loc['AUT']-geo_coord.loc['IRL'])**2)"
   ]
  },
  {
   "cell_type": "code",
   "execution_count": 80,
   "metadata": {},
   "outputs": [
    {
     "data": {
      "text/plain": [
       "Latitude      33.64\n",
       "Longitude    449.44\n",
       "dtype: float64"
      ]
     },
     "execution_count": 80,
     "metadata": {},
     "output_type": "execute_result"
    }
   ],
   "source": [
    "(geo_coord.loc['AUT']-geo_coord.loc['IRL'])**2"
   ]
  },
  {
   "cell_type": "code",
   "execution_count": 82,
   "metadata": {},
   "outputs": [
    {
     "data": {
      "text/plain": [
       "tensor([[  0.0000, 111.5058,  13.5553,  11.9685, 141.6098,  16.5271,   8.8116,\n",
       "          67.9120, 100.0202,  13.4776,  21.2237,  12.7336,  20.8121,  15.7785,\n",
       "           4.0921,  65.6860],\n",
       "        [111.5058,   0.0000, 125.0300,  99.6436,  30.6349,  95.5118, 104.9238,\n",
       "         169.0044,  44.6878, 104.5108,  99.3227,  99.2472,  91.0055,  96.4698,\n",
       "         114.6320, 172.5587],\n",
       "        [ 13.5553, 125.0300,   0.0000,  25.3996, 155.0806,  29.7321,  20.7966,\n",
       "          59.0339, 112.1985,  23.4307,  31.1207,  25.9326,  34.1541,  28.8691,\n",
       "          11.0454,  54.5619],\n",
       "        [ 11.9685,  99.6436,  25.3996,   0.0000, 129.6840,   4.8104,   6.6212,\n",
       "          78.1942,  88.6016,  10.5423,  14.9345,   1.8000,   8.8566,   4.3960,\n",
       "          15.5416,  77.0425],\n",
       "        [141.6098,  30.6349, 155.0806, 129.6840,   0.0000, 125.4193, 134.7312,\n",
       "         199.6021,  60.1041, 133.9590, 128.3141, 129.1917, 120.9483, 126.3417,\n",
       "         144.8447, 203.1773],\n",
       "        [ 16.5271,  95.5118,  29.7321,   4.8104, 125.4193,   0.0000,   9.5131,\n",
       "          82.9759,  83.8004,  11.1803,  12.7475,   3.8079,   4.5277,   1.1068,\n",
       "          20.2485,  81.8352],\n",
       "        [  8.8116, 104.9238,  20.7966,   6.6212, 134.7312,   9.5131,   0.0000,\n",
       "          76.7235,  91.6079,   5.5227,  12.6491,   6.0828,  14.0357,   8.4926,\n",
       "          12.9035,  74.3001],\n",
       "        [ 67.9120, 169.0044,  59.0339,  78.1942, 199.6021,  82.9759,  76.7235,\n",
       "           0.0000, 166.1761,  80.9938,  88.8960,  79.5770,  86.3394,  82.5647,\n",
       "          63.8201,  15.6205],\n",
       "        [100.0202,  44.6878, 112.1985,  88.6016,  60.1041,  83.8004,  91.6079,\n",
       "         166.1761,   0.0000,  88.8960,  81.6333,  87.4586,  80.0562,  84.3903,\n",
       "         103.9351, 165.6276],\n",
       "        [ 13.4776, 104.5108,  23.4307,  10.5423, 133.9590,  11.1803,   5.5227,\n",
       "          80.9938,  88.8960,   0.0000,   7.9057,   9.1924,  15.1822,  10.0859,\n",
       "          17.4642,  77.7946],\n",
       "        [ 21.2237,  99.3227,  31.1207,  14.9345, 128.3141,  12.7475,  12.6491,\n",
       "          88.8960,  81.6333,   7.9057,   0.0000,  13.1529,  14.8661,  12.0052,\n",
       "          25.2686,  85.6067],\n",
       "        [ 12.7336,  99.2472,  25.9326,   1.8000, 129.1917,   3.8079,   6.0828,\n",
       "          79.5770,  87.4586,   9.1924,  13.1529,   0.0000,   8.2462,   3.0700,\n",
       "          16.5076,  78.1697],\n",
       "        [ 20.8121,  91.0055,  34.1541,   8.8566, 120.9483,   4.5277,  14.0357,\n",
       "          86.3394,  80.0562,  15.1822,  14.8661,   8.2462,   0.0000,   5.5520,\n",
       "          24.3824,  85.7001],\n",
       "        [ 15.7785,  96.4698,  28.8691,   4.3960, 126.3417,   1.1068,   8.4926,\n",
       "          82.5647,  84.3903,  10.0859,  12.0052,   3.0700,   5.5520,   0.0000,\n",
       "          19.5761,  81.2375],\n",
       "        [  4.0921, 114.6320,  11.0454,  15.5416, 144.8447,  20.2485,  12.9035,\n",
       "          63.8201, 103.9351,  17.4642,  25.2686,  16.5076,  24.3824,  19.5761,\n",
       "           0.0000,  61.7171],\n",
       "        [ 65.6860, 172.5587,  54.5619,  77.0425, 203.1773,  81.8352,  74.3001,\n",
       "          15.6205, 165.6276,  77.7946,  85.6067,  78.1697,  85.7001,  81.2375,\n",
       "          61.7171,   0.0000]])"
      ]
     },
     "execution_count": 82,
     "metadata": {},
     "output_type": "execute_result"
    }
   ],
   "source": [
    "n_countries = len(data.keys())\n",
    "A_lat_long = torch.FloatTensor(n_countries, n_countries)\n",
    "for i, country_1 in enumerate(data.keys()):\n",
    "    for j, country_2 in enumerate(data.keys()):\n",
    "        A_lat_long[i,j] = np.sqrt(np.mean((geo_coord.loc[country_1]-geo_coord.loc[country_2])**2))\n",
    "\n",
    "A_lat_long"
   ]
  },
  {
   "cell_type": "raw",
   "metadata": {},
   "source": [
    "pip install geopy"
   ]
  },
  {
   "cell_type": "code",
   "execution_count": 101,
   "metadata": {},
   "outputs": [
    {
     "name": "stdout",
     "output_type": "stream",
     "text": [
      "Coordonnées de France : (46.603354, 1.8883335)\n",
      "Coordonnées de Pays-bas : (52.24764975, 5.541246849406163)\n"
     ]
    }
   ],
   "source": [
    "from geopy.geocoders import Nominatim\n",
    "\n",
    "# Créer un objet geolocator\n",
    "geolocator = Nominatim(user_agent=\"geoapiExercises\")\n",
    "\n",
    "# Fonction pour obtenir les coordonnées d'un pays\n",
    "def get_country_coordinates(country_name):\n",
    "    location = geolocator.geocode(country_name)\n",
    "    if location:\n",
    "        return (location.latitude, location.longitude)\n",
    "    else:\n",
    "        return \"Pays non trouvé\"\n",
    "\n",
    "# Exemple : Obtenir les coordonnées de la France\n",
    "country = \"France\"\n",
    "coordinates = get_country_coordinates(country)\n",
    "print(f\"Coordonnées de {country} : {coordinates}\")\n",
    "\n",
    "# Exemple : Obtenir les coordonnées du Brésil\n",
    "country = \"Pays-bas\"\n",
    "coordinates = get_country_coordinates(country)\n",
    "print(f\"Coordonnées de {country} : {coordinates}\")\n"
   ]
  }
 ],
 "metadata": {
  "kernelspec": {
   "display_name": "pytorch-deep",
   "language": "python",
   "name": "python3"
  },
  "language_info": {
   "codemirror_mode": {
    "name": "ipython",
    "version": 3
   },
   "file_extension": ".py",
   "mimetype": "text/x-python",
   "name": "python",
   "nbconvert_exporter": "python",
   "pygments_lexer": "ipython3",
   "version": "3.11.9"
  }
 },
 "nbformat": 4,
 "nbformat_minor": 2
}
