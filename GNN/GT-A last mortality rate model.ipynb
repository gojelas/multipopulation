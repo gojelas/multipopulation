{
 "cells": [
  {
   "cell_type": "markdown",
   "metadata": {},
   "source": [
    "En faisant le produit avec la matrice adaptative si jamais un pays se retrouve seul dans une classe, toute la colonne de cette classe se retrouve à zéro."
   ]
  },
  {
   "cell_type": "code",
   "execution_count": 1,
   "metadata": {},
   "outputs": [],
   "source": [
    "import torch\n",
    "import torch.nn as nn\n",
    "import torch.nn.functional as F\n",
    "\n",
    "import numpy as np\n",
    "from sklearn.cluster import KMeans\n",
    "import pandas as pd\n",
    "from sklearn.decomposition import PCA\n",
    "\n",
    "from adjency_matrix import AdaptativeMatrix, DTW,AgeReduction\n",
    "from gt_a_model import GCNLayer, GCNMultiLayer, Encoder, EncoderLayer"
   ]
  },
  {
   "cell_type": "code",
   "execution_count": 2,
   "metadata": {},
   "outputs": [],
   "source": [
    "AM = AdaptativeMatrix()\n",
    "dtw = DTW()\n",
    "AR = AgeReduction()"
   ]
  },
  {
   "cell_type": "code",
   "execution_count": 3,
   "metadata": {},
   "outputs": [],
   "source": [
    "def adjency_matrix(X: torch.Tensor, coord_countries: torch.Tensor):\n",
    "    \"\"\"\n",
    "    X is 3D tensor of mortality rates\n",
    "    coord_countries is 2D matrix contains longitude and latitude of each country. 1st column represents long and 2nd represents lat\n",
    "    \"\"\"\n",
    "    n_countries  = X.shape[0]\n",
    "    clusters = AM.adaptative_matrix(X)\n",
    "    dtw_matrix = dtw.DTW_Matrix(X)\n",
    "    long_lat_matrix = np.empty((n_countries, n_countries))\n",
    "    for i in range(n_countries):\n",
    "        for j in range(n_countries):\n",
    "            long_lat_matrix[i,j] = torch.sqrt(torch.mean((coord_countries[i]-coord_countries[j])**2))\n",
    "    \n",
    "    # \n",
    "    adjency_mat = dtw_matrix * long_lat_matrix\n",
    "    #print(\"adj_brut_matrix \\n\",adjency_mat)\n",
    "    for i in range(n_countries):\n",
    "        for j in range(n_countries):\n",
    "            if clusters[i] != clusters[j]:\n",
    "                adjency_mat[i,j] = 0.005\n",
    "    \n",
    "    #print(\"long_lat \\n\",long_lat_matrix)\n",
    "    print(\"clusters \\n\",clusters)\n",
    "    return adjency_mat\n"
   ]
  },
  {
   "cell_type": "markdown",
   "metadata": {},
   "source": [
    "### 2) Importation des données de mortalité\n"
   ]
  },
  {
   "cell_type": "code",
   "execution_count": 4,
   "metadata": {},
   "outputs": [],
   "source": [
    "### import mortality data for the different countries\n",
    "import os\n",
    " \n",
    "directory = '/Users/gojelastat/Desktop/Thèse/Projet 2/Données/Données GT-A'\n",
    "data={}\n",
    "for filename in os.listdir(directory):\n",
    "    f = os.path.join(directory, filename)\n",
    "    if os.path.isfile(f) and filename.endswith('.txt'):\n",
    "        data[filename.split('.')[0]]=pd.read_csv(f,header=1,delimiter=\"\\s+\") ### filename.split('.')[0] split the name by . and recover the code of the country\n",
    "        ### in this line, we fill the dictionary \"data\" with the different data of country and their code"
   ]
  },
  {
   "cell_type": "code",
   "execution_count": 5,
   "metadata": {},
   "outputs": [
    {
     "data": {
      "text/plain": [
       "22"
      ]
     },
     "execution_count": 5,
     "metadata": {},
     "output_type": "execute_result"
    }
   ],
   "source": [
    "len(data.keys())"
   ]
  },
  {
   "cell_type": "markdown",
   "metadata": {},
   "source": [
    "### 3) Mettre les données au format adéquat \n",
    "C'est-à-dire sous forme de tenseur de taille M x T x A où M est le nombre de pays, T est la dimension du temps et A est la dimension de l'âge. Rappelons que ceci est fait pour s'adapter au cadre d'implémentation du modèle GT-A et ici on travaille avec les données des **hommes**"
   ]
  },
  {
   "cell_type": "code",
   "execution_count": 6,
   "metadata": {},
   "outputs": [],
   "source": [
    "#fonction permettant de transformer les données dans la bonne numérisation\n",
    "def __data_load(data):\n",
    "    columns=data.columns\n",
    "    data['Age']=np.where(data['Age']!='110+',data['Age'],111)\n",
    "    for col in columns:\n",
    "        data[col]=np.where(data[col]!='.',data[col],9999)\n",
    "        data[col]=pd.to_numeric(data[col])\n",
    "\n",
    "    data=data[data['Age']<100] \n",
    "    #data=data[data['Age']>=50]\n",
    "    data=data[data['Year']>=1950]\n",
    "    data=data[data['Year']<=2010]\n",
    "\n",
    "    #df_min=np.min(data['Male'])\n",
    "    #df_max=np.max(data['Male'])\n",
    "\n",
    "    #data['Male']=(data['Male']-df_min)/(df_max-df_min)\n",
    "    data.index=np.arange(data.shape[0])  ### renommer les index de 0 jusqu'à la taille de data\n",
    "    return data#,df_min,df_max\n",
    "\n",
    "\n",
    "def __test_load(data):\n",
    "    columns=data.columns\n",
    "    data['Age']=np.where(data['Age']!='110+',data['Age'],111)\n",
    "    for col in columns:\n",
    "        data[col]=np.where(data[col]!='.',data[col],9999)\n",
    "        data[col]=pd.to_numeric(data[col])\n",
    "\n",
    "    data=data[data['Age']<100]\n",
    "    #data=data[data['Age']>=50]\n",
    "    data=data[data['Year']>=2011]\n",
    "    data=data[data['Year']<=2019]\n",
    "\n",
    "    #df_min=np.min(data['Male'])\n",
    "    #df_max=np.max(data['Male'])\n",
    "\n",
    "    #data['Male']=(data['Male']-df_min)/(df_max-df_min)\n",
    "    data.index=np.arange(data.shape[0])  ### renommer les index de 0 jusqu'à la taille de data\n",
    "    return data#,df_min,df_max\n",
    "\n",
    "\n",
    "### Transform the based dataset to matrix of mortality rates of male people in this case. \n",
    "#The matrix has age on row and year on columns\n",
    "def __data_reshaping(data,Gender=\"Male\"):\n",
    "    data=__data_load(data)\n",
    "    data[Gender] = np.where(data[Gender] != 0.0, data[Gender], 0.00000001)\n",
    "    mat=pd.DataFrame(index=np.unique(data['Age']),columns=np.unique(data['Year']))\n",
    "    n=0\n",
    "    for j in range(mat.shape[1]):\n",
    "        for i in range(mat.shape[0]):\n",
    "            mat.iloc[i,j]=data.loc[n+i,Gender]\n",
    "        n=n+mat.shape[0]\n",
    "    years=np.arange(1950,(1950+mat.shape[1]))\n",
    "    ages=np.arange(0,(mat.shape[0]))\n",
    "\n",
    "    #for col in years:\n",
    "    #    mat[col]=pd.to_numeric(mat[col])\n",
    "    return np.array(mat.T, dtype=np.float32) # ici on essaie de convertir en un tableau floattant, la transposée c'est parce que le code\n",
    "    # était fait pour sortir une matrice de taille A x T.\n",
    "\n",
    "\n",
    "def __test_reshaping(data,Gender=\"Male\"):\n",
    "    data=__test_load(data)\n",
    "    data[Gender] = np.where(data[Gender] != 0.0, data[Gender], 0.00000001)\n",
    "    mat=pd.DataFrame(index=np.unique(data['Age']),columns=np.unique(data['Year']))\n",
    "    n=0\n",
    "    for j in range(mat.shape[1]):\n",
    "        for i in range(mat.shape[0]):\n",
    "            mat.iloc[i,j]=data.loc[n+i,Gender]\n",
    "        n=n+mat.shape[0]\n",
    "    years=np.arange(1950,(1950+mat.shape[1]))\n",
    "    ages=np.arange(0,(mat.shape[0]))\n",
    "\n",
    "    #for col in years:\n",
    "    #    mat[col]=pd.to_numeric(mat[col])\n",
    "    return np.array(mat.T, dtype=np.float32) # ici on essaie de convertir en un tableau floattant, la transposée c'est parce que le code\n",
    "    # était fait pour sortir une matrice de taille A x T.\n"
   ]
  },
  {
   "cell_type": "code",
   "execution_count": 7,
   "metadata": {},
   "outputs": [],
   "source": [
    "### Search for outliers (<=0 or >=1) in male data\n",
    "#for code, country in data.items():\n",
    "#    print(data[code][data[code].Male <= 0])"
   ]
  },
  {
   "cell_type": "code",
   "execution_count": 8,
   "metadata": {},
   "outputs": [
    {
     "name": "stdout",
     "output_type": "stream",
     "text": [
      "PRT minimum is . and maximum is 6.000000\n",
      "GBR_NP minimum is . and maximum is 4.340426\n",
      "BEL minimum is . and maximum is 6.000000\n",
      "AUS minimum is . and maximum is 6.000000\n",
      "ESP minimum is . and maximum is 6.000000\n",
      "ISL minimum is . and maximum is 7.234751\n",
      "AUT minimum is . and maximum is 6.000000\n",
      "NZL_NP minimum is . and maximum is 6.000000\n",
      "HUN minimum is . and maximum is 6.000000\n",
      "FRACNP minimum is . and maximum is 6.000000\n",
      "NLD minimum is . and maximum is 6.036331\n",
      "DNK minimum is . and maximum is 6.000000\n",
      "USA minimum is 0.000103 and maximum is 1.150146\n",
      "JPN minimum is . and maximum is 6.000000\n",
      "SWE minimum is . and maximum is 6.000000\n",
      "FIN minimum is . and maximum is 6.883500\n",
      "CZE minimum is . and maximum is 6.000000\n",
      "ITA minimum is . and maximum is 6.018847\n",
      "BGR minimum is . and maximum is 6.000000\n",
      "SVK minimum is . and maximum is 6.000000\n",
      "IRL minimum is . and maximum is 6.000000\n",
      "CAN minimum is . and maximum is 6.000000\n"
     ]
    }
   ],
   "source": [
    "### Search for outliers (<=0 or >=1) in male data\n",
    "for code, country in data.items():\n",
    "    print(\"{} minimum is {} and maximum is {}\".format(code,np.min(data[code].Male), np.max(data[code].Male)))"
   ]
  },
  {
   "cell_type": "code",
   "execution_count": 9,
   "metadata": {},
   "outputs": [],
   "source": [
    "from sklearn.preprocessing import MinMaxScaler"
   ]
  },
  {
   "cell_type": "code",
   "execution_count": 10,
   "metadata": {},
   "outputs": [],
   "source": [
    "T = 2010 - 1950 + 1\n",
    "A = 99 - 0 + 1\n",
    "T2 = 2019-2011 + 1\n",
    "X = torch.FloatTensor(len(data.keys()), T, A)\n",
    "X_norm = torch.FloatTensor(len(data.keys()), T, A)\n",
    "test = torch.FloatTensor(len(data.keys()), T2, A)\n",
    "test_norm = torch.FloatTensor(len(data.keys()), T2, A)\n",
    "countries = data.keys()\n",
    "sc = []\n",
    "for i,country in enumerate(countries):\n",
    "    m = MinMaxScaler()\n",
    "    X[i]= torch.tensor(__data_reshaping(data[country]))\n",
    "    X[i] = torch.log(X[i])\n",
    "    #Version normalisée de X pour garantir la stablité numérique et une mise à l'échelle des caractéristiques)\n",
    "    X_norm[i] = torch.FloatTensor(m.fit_transform(X[i]))\n",
    "    #sc.append(m.fit[X])\n",
    "    test[i] = torch.log(torch.tensor(__test_reshaping(data[country])))\n"
   ]
  },
  {
   "cell_type": "markdown",
   "metadata": {},
   "source": [
    "Comment faire la normalisation pour chaque pays et pouvoir récupérer la normalisation pour l'inversion par la suite"
   ]
  },
  {
   "cell_type": "markdown",
   "metadata": {},
   "source": [
    "#### Coordonnées géographique des pays \n",
    "Ici on oriente le globe en un repère orthonormé avec l'axe des abscisses orienté vers l'Est et l'axe des ordonnées orienté vers le Nord. Ces coordonnées ont été pris sur wikipédia. Dans la base de données HMD, il y a la base de données par régions du UK et pour toute la population UK. On a choisi d'utiliser la base du UK total."
   ]
  },
  {
   "cell_type": "code",
   "execution_count": 11,
   "metadata": {},
   "outputs": [
    {
     "data": {
      "text/html": [
       "<div>\n",
       "<style scoped>\n",
       "    .dataframe tbody tr th:only-of-type {\n",
       "        vertical-align: middle;\n",
       "    }\n",
       "\n",
       "    .dataframe tbody tr th {\n",
       "        vertical-align: top;\n",
       "    }\n",
       "\n",
       "    .dataframe thead th {\n",
       "        text-align: right;\n",
       "    }\n",
       "</style>\n",
       "<table border=\"1\" class=\"dataframe\">\n",
       "  <thead>\n",
       "    <tr style=\"text-align: right;\">\n",
       "      <th></th>\n",
       "      <th>Latitude</th>\n",
       "      <th>Longitude</th>\n",
       "    </tr>\n",
       "  </thead>\n",
       "  <tbody>\n",
       "    <tr>\n",
       "      <th>PRT</th>\n",
       "      <td>39.3000</td>\n",
       "      <td>-8.0000</td>\n",
       "    </tr>\n",
       "    <tr>\n",
       "      <th>GBR_NP</th>\n",
       "      <td>54.0000</td>\n",
       "      <td>-2.3000</td>\n",
       "    </tr>\n",
       "    <tr>\n",
       "      <th>BEL</th>\n",
       "      <td>50.5000</td>\n",
       "      <td>4.0000</td>\n",
       "    </tr>\n",
       "    <tr>\n",
       "      <th>AUS</th>\n",
       "      <td>-27.0000</td>\n",
       "      <td>133.0000</td>\n",
       "    </tr>\n",
       "    <tr>\n",
       "      <th>ESP</th>\n",
       "      <td>40.0000</td>\n",
       "      <td>-4.0000</td>\n",
       "    </tr>\n",
       "    <tr>\n",
       "      <th>ISL</th>\n",
       "      <td>65.0000</td>\n",
       "      <td>-18.0000</td>\n",
       "    </tr>\n",
       "    <tr>\n",
       "      <th>AUT</th>\n",
       "      <td>47.2000</td>\n",
       "      <td>13.2000</td>\n",
       "    </tr>\n",
       "    <tr>\n",
       "      <th>NZL_NP</th>\n",
       "      <td>-41.0000</td>\n",
       "      <td>174.0000</td>\n",
       "    </tr>\n",
       "    <tr>\n",
       "      <th>HUN</th>\n",
       "      <td>47.0000</td>\n",
       "      <td>20.0000</td>\n",
       "    </tr>\n",
       "    <tr>\n",
       "      <th>FRACNP</th>\n",
       "      <td>47.0000</td>\n",
       "      <td>2.0000</td>\n",
       "    </tr>\n",
       "    <tr>\n",
       "      <th>NLD</th>\n",
       "      <td>51.5500</td>\n",
       "      <td>5.3400</td>\n",
       "    </tr>\n",
       "    <tr>\n",
       "      <th>DNK</th>\n",
       "      <td>56.0000</td>\n",
       "      <td>10.0000</td>\n",
       "    </tr>\n",
       "    <tr>\n",
       "      <th>USA</th>\n",
       "      <td>38.0000</td>\n",
       "      <td>-97.0000</td>\n",
       "    </tr>\n",
       "    <tr>\n",
       "      <th>JPN</th>\n",
       "      <td>36.0000</td>\n",
       "      <td>138.0000</td>\n",
       "    </tr>\n",
       "    <tr>\n",
       "      <th>SWE</th>\n",
       "      <td>62.0000</td>\n",
       "      <td>15.0000</td>\n",
       "    </tr>\n",
       "    <tr>\n",
       "      <th>FIN</th>\n",
       "      <td>64.0000</td>\n",
       "      <td>26.0000</td>\n",
       "    </tr>\n",
       "    <tr>\n",
       "      <th>CZE</th>\n",
       "      <td>49.0000</td>\n",
       "      <td>15.0000</td>\n",
       "    </tr>\n",
       "    <tr>\n",
       "      <th>ITA</th>\n",
       "      <td>42.5001</td>\n",
       "      <td>12.5001</td>\n",
       "    </tr>\n",
       "    <tr>\n",
       "      <th>BGR</th>\n",
       "      <td>43.0000</td>\n",
       "      <td>25.0000</td>\n",
       "    </tr>\n",
       "    <tr>\n",
       "      <th>SVK</th>\n",
       "      <td>48.4000</td>\n",
       "      <td>19.3000</td>\n",
       "    </tr>\n",
       "    <tr>\n",
       "      <th>IRL</th>\n",
       "      <td>53.0000</td>\n",
       "      <td>-8.0000</td>\n",
       "    </tr>\n",
       "    <tr>\n",
       "      <th>CAN</th>\n",
       "      <td>60.0000</td>\n",
       "      <td>-95.0000</td>\n",
       "    </tr>\n",
       "  </tbody>\n",
       "</table>\n",
       "</div>"
      ],
      "text/plain": [
       "        Latitude  Longitude\n",
       "PRT      39.3000    -8.0000\n",
       "GBR_NP   54.0000    -2.3000\n",
       "BEL      50.5000     4.0000\n",
       "AUS     -27.0000   133.0000\n",
       "ESP      40.0000    -4.0000\n",
       "ISL      65.0000   -18.0000\n",
       "AUT      47.2000    13.2000\n",
       "NZL_NP  -41.0000   174.0000\n",
       "HUN      47.0000    20.0000\n",
       "FRACNP   47.0000     2.0000\n",
       "NLD      51.5500     5.3400\n",
       "DNK      56.0000    10.0000\n",
       "USA      38.0000   -97.0000\n",
       "JPN      36.0000   138.0000\n",
       "SWE      62.0000    15.0000\n",
       "FIN      64.0000    26.0000\n",
       "CZE      49.0000    15.0000\n",
       "ITA      42.5001    12.5001\n",
       "BGR      43.0000    25.0000\n",
       "SVK      48.4000    19.3000\n",
       "IRL      53.0000    -8.0000\n",
       "CAN      60.0000   -95.0000"
      ]
     },
     "execution_count": 11,
     "metadata": {},
     "output_type": "execute_result"
    }
   ],
   "source": [
    "country = ['AUT','AUS','GBR_NP','ISL','NZL_NP', 'HUN', 'DNK', 'USA', 'JPN',\n",
    "           'SWE', 'FIN', 'CZE', 'BGR', 'SVK', 'IRL', 'CAN', 'PRT', 'BEL', 'ESP',\n",
    "           'FRACNP', 'NLD', 'ITA']\n",
    "coord = np.array([[47.20, 13.20],[-27.00, 133.00], [54.00, -2.30], [65.00, -18.00],\n",
    "                 [-41.00, 174.00], [47.00, 20.00], [56.00, 10.00], [38.00, -97.00],\n",
    "                 [36.00, 138.00], [62.00, 15.00], [64.00, 26.00], [49.00, 15.00],\n",
    "                 [43.00, 25.00], [48.40, 19.30], [53.00, -8.00], [60.00, -95.00],\n",
    "                 [39.30, -8.00], [50.50, 4.00], [40.00, -4.00], [47.00, 2.00], \n",
    "                 [51.55, 5.34], [42.5001, 12.5001]])\n",
    "\n",
    "geo_coord = pd.DataFrame(coord, index=country, columns=['Latitude', 'Longitude'])\n",
    "geo_coord = geo_coord.loc[list(data.keys())]\n",
    "geo_coord"
   ]
  },
  {
   "cell_type": "markdown",
   "metadata": {},
   "source": [
    "### 4) Calcul de la matrice $A_{lat-long}$"
   ]
  },
  {
   "cell_type": "code",
   "execution_count": 12,
   "metadata": {},
   "outputs": [
    {
     "data": {
      "text/plain": [
       "tensor([[  0.0000,   5.0961, 111.5058],\n",
       "        [  5.0961,   0.0000, 106.4125],\n",
       "        [111.5058, 106.4125,   0.0000]])"
      ]
     },
     "execution_count": 12,
     "metadata": {},
     "output_type": "execute_result"
    }
   ],
   "source": [
    "n_countries = len(data.keys())\n",
    "A_lat_long = torch.FloatTensor(n_countries, n_countries)\n",
    "for i, country_1 in enumerate(data.keys()):\n",
    "    for j, country_2 in enumerate(data.keys()):\n",
    "        A_lat_long[i,j] = np.sqrt(np.mean((geo_coord.loc[country_1]-geo_coord.loc[country_2])**2))\n",
    "\n",
    "A_lat_long[1:4,1:4]"
   ]
  },
  {
   "cell_type": "raw",
   "metadata": {},
   "source": [
    "pip install geopy"
   ]
  },
  {
   "cell_type": "raw",
   "metadata": {},
   "source": [
    "from geopy.geocoders import Nominatim\n",
    "\n",
    "# Créer un objet geolocator\n",
    "geolocator = Nominatim(user_agent=\"geoapiExercises\")\n",
    "\n",
    "# Fonction pour obtenir les coordonnées d'un pays\n",
    "def get_country_coordinates(country_name):\n",
    "    location = geolocator.geocode(country_name)\n",
    "    if location:\n",
    "        return (location.latitude, location.longitude)\n",
    "    else:\n",
    "        return \"Pays non trouvé\"\n",
    "\n",
    "# Exemple : Obtenir les coordonnées de la France\n",
    "country = \"France\"\n",
    "coordinates = get_country_coordinates(country)\n",
    "print(f\"Coordonnées de {country} : {coordinates}\")\n",
    "\n",
    "# Exemple : Obtenir les coordonnées du Brésil\n",
    "country = \"Pays-bas\"\n",
    "coordinates = get_country_coordinates(country)\n",
    "print(f\"Coordonnées de {country} : {coordinates}\")\n"
   ]
  },
  {
   "cell_type": "code",
   "execution_count": 13,
   "metadata": {},
   "outputs": [],
   "source": [
    "# Cette partie permet de convertir le dataframe en numpy floattant\n",
    "geo_coord = torch.FloatTensor(np.array(geo_coord, dtype=np.float32))"
   ]
  },
  {
   "cell_type": "code",
   "execution_count": 14,
   "metadata": {},
   "outputs": [
    {
     "name": "stdout",
     "output_type": "stream",
     "text": [
      "The variance explained by principal components:  [0.86285386]\n",
      "The variance explained by principal components:  [0.92847528]\n",
      "The variance explained by principal components:  [0.82585624]\n",
      "The variance explained by principal components:  [0.9088234]\n",
      "The variance explained by principal components:  [0.90072472]\n",
      "The variance explained by principal components:  [0.29604584]\n",
      "The variance explained by principal components:  [0.63695517]\n",
      "The variance explained by principal components:  [0.65376633]\n",
      "The variance explained by principal components:  [0.68731448]\n",
      "The variance explained by principal components:  [0.92324138]\n",
      "The variance explained by principal components:  [0.86803872]\n",
      "The variance explained by principal components:  [0.59313692]\n",
      "The variance explained by principal components:  [0.94291138]\n",
      "The variance explained by principal components:  [0.96681486]\n",
      "The variance explained by principal components:  [0.7960341]\n",
      "The variance explained by principal components:  [0.455287]\n",
      "The variance explained by principal components:  [0.77673918]\n",
      "The variance explained by principal components:  [0.92492706]\n",
      "The variance explained by principal components:  [0.66630883]\n",
      "The variance explained by principal components:  [0.5764714]\n",
      "The variance explained by principal components:  [0.59145433]\n",
      "The variance explained by principal components:  [0.92940952]\n",
      "The variance explained by principal components:  [0.86285386]\n",
      "The variance explained by principal components:  [0.92847528]\n",
      "The variance explained by principal components:  [0.82585624]\n",
      "The variance explained by principal components:  [0.9088234]\n",
      "The variance explained by principal components:  [0.90072472]\n",
      "The variance explained by principal components:  [0.29604584]\n",
      "The variance explained by principal components:  [0.63695517]\n",
      "The variance explained by principal components:  [0.65376633]\n",
      "The variance explained by principal components:  [0.68731448]\n",
      "The variance explained by principal components:  [0.92324138]\n",
      "The variance explained by principal components:  [0.86803872]\n",
      "The variance explained by principal components:  [0.59313692]\n",
      "The variance explained by principal components:  [0.94291138]\n",
      "The variance explained by principal components:  [0.96681486]\n",
      "The variance explained by principal components:  [0.7960341]\n",
      "The variance explained by principal components:  [0.455287]\n",
      "The variance explained by principal components:  [0.77673918]\n",
      "The variance explained by principal components:  [0.92492706]\n",
      "The variance explained by principal components:  [0.66630883]\n",
      "The variance explained by principal components:  [0.5764714]\n",
      "The variance explained by principal components:  [0.59145433]\n",
      "The variance explained by principal components:  [0.92940952]\n",
      "clusters \n",
      " [0 0 0 0 0 1 0 0 0 0 0 0 0 0 0 2 0 0 0 2 0 0]\n"
     ]
    }
   ],
   "source": [
    "A = adjency_matrix(X, geo_coord)"
   ]
  },
  {
   "cell_type": "code",
   "execution_count": null,
   "metadata": {},
   "outputs": [],
   "source": []
  },
  {
   "cell_type": "markdown",
   "metadata": {},
   "source": [
    "## 6) Modélisation "
   ]
  },
  {
   "cell_type": "code",
   "execution_count": 15,
   "metadata": {},
   "outputs": [],
   "source": [
    "from gt_a_model import GTA_Model\n",
    "from torch import optim\n",
    "from sklearn.preprocessing import MinMaxScaler"
   ]
  },
  {
   "cell_type": "code",
   "execution_count": 16,
   "metadata": {},
   "outputs": [
    {
     "data": {
      "text/plain": [
       "torch.Size([22, 61, 100])"
      ]
     },
     "execution_count": 16,
     "metadata": {},
     "output_type": "execute_result"
    }
   ],
   "source": [
    "X.shape"
   ]
  },
  {
   "cell_type": "code",
   "execution_count": 18,
   "metadata": {},
   "outputs": [
    {
     "name": "stdout",
     "output_type": "stream",
     "text": [
      "Epoch [10/100], Loss: 141.5123\n",
      "Epoch [20/100], Loss: 108.2157\n",
      "Epoch [30/100], Loss: 40605757440.0000\n",
      "Epoch [40/100], Loss: 2156601595133952.0000\n",
      "Epoch [50/100], Loss: 111482699776.0000\n",
      "Epoch [60/100], Loss: 2618463354880.0000\n",
      "Epoch [70/100], Loss: 12029113925632.0000\n",
      "Epoch [80/100], Loss: 40227787767808.0000\n",
      "Epoch [90/100], Loss: 13654289285120.0000\n",
      "Epoch [100/100], Loss: 5138072731648.0000\n",
      "Epoch [110/100], Loss: 414133911552.0000\n",
      "Epoch [120/100], Loss: 335823831040.0000\n",
      "Epoch [130/100], Loss: 3063375616.0000\n",
      "Epoch [140/100], Loss: 25169936384.0000\n",
      "Epoch [150/100], Loss: 10710392832.0000\n",
      "Epoch [160/100], Loss: 1755404928.0000\n",
      "Epoch [170/100], Loss: 380515552.0000\n",
      "Epoch [180/100], Loss: 98205328.0000\n",
      "Epoch [190/100], Loss: 109387096.0000\n",
      "Epoch [200/100], Loss: 59663180.0000\n"
     ]
    }
   ],
   "source": [
    "model = GTA_Model(n_predictions=9)\n",
    "#model = Encoder()\n",
    "criterion = nn.MSELoss()\n",
    "optimizer = optim.Adam(model.parameters(), lr=0.01)\n",
    "\n",
    "torch.autograd.set_detect_anomaly(True)\n",
    "# Boucle d'entraînement simple\n",
    "for epoch in range(200):\n",
    "# Zéro le gradient\n",
    "    optimizer.zero_grad()\n",
    "\n",
    "    # Forward pass\n",
    "    output = model(X,A)\n",
    "\n",
    "    # Calcul de la perte\n",
    "    loss = criterion(output, test)\n",
    "\n",
    "    # Backward pass et optimisation\n",
    "    loss.backward()\n",
    "    optimizer.step()\n",
    "\n",
    "    # Affichage des informations\n",
    "    if (epoch + 1) % 10 == 0:\n",
    "        print(f'Epoch [{epoch+1}/100], Loss: {loss.item():.4f}')\n",
    "\n"
   ]
  },
  {
   "cell_type": "code",
   "execution_count": 18,
   "metadata": {},
   "outputs": [
    {
     "data": {
      "text/plain": [
       "torch.Size([22, 61, 100])"
      ]
     },
     "execution_count": 18,
     "metadata": {},
     "output_type": "execute_result"
    }
   ],
   "source": [
    "output.shape"
   ]
  },
  {
   "cell_type": "code",
   "execution_count": null,
   "metadata": {},
   "outputs": [
    {
     "data": {
      "text/plain": [
       "tensor(105936)"
      ]
     },
     "execution_count": 47,
     "metadata": {},
     "output_type": "execute_result"
    }
   ],
   "source": [
    "x.isnan().sum()"
   ]
  },
  {
   "cell_type": "code",
   "execution_count": null,
   "metadata": {},
   "outputs": [
    {
     "data": {
      "text/plain": [
       "tensor([[0.0000e+00, 3.1061e+02, 3.1741e+02, 1.5355e+03, 3.8052e+01, 5.0000e-03,\n",
       "         2.2646e+02, 4.0601e+03, 8.5495e+02, 1.5768e+02, 4.5506e+02, 8.2135e+02,\n",
       "         4.8723e+03, 4.6645e+03, 4.3682e+02, 5.0000e-03, 4.7738e+02, 5.6629e+01,\n",
       "         2.6496e+03, 5.0000e-03, 1.2371e+03, 9.9809e+02],\n",
       "        [3.1061e+02, 0.0000e+00, 9.1326e+00, 3.1563e+02, 4.7811e+02, 5.0000e-03,\n",
       "         2.8446e+02, 1.8577e+03, 9.3818e+01, 1.4747e+01, 1.8038e+01, 2.2178e+02,\n",
       "         3.5972e+02, 1.3345e+04, 6.1400e+01, 5.0000e-03, 3.6593e+01, 1.8500e+02,\n",
       "         5.4540e+02, 5.0000e-03, 6.0894e+02, 1.2030e+02],\n",
       "        [3.1741e+02, 9.1326e+00, 0.0000e+00, 4.2388e+02, 3.9960e+02, 5.0000e-03,\n",
       "         1.6635e+02, 1.8868e+03, 6.8559e+01, 6.1401e+00, 4.7618e+00, 1.5687e+02,\n",
       "         5.1416e+02, 1.1549e+04, 5.2890e+01, 5.0000e-03, 2.5685e+01, 1.1005e+02,\n",
       "         5.0560e+02, 5.0000e-03, 1.2148e+03, 1.5343e+02],\n",
       "        [1.5355e+03, 3.1563e+02, 4.2388e+02, 0.0000e+00, 4.0160e+03, 5.0000e-03,\n",
       "         1.4092e+03, 3.3165e+02, 1.4010e+03, 2.7613e+02, 5.2892e+02, 2.5045e+03,\n",
       "         3.5251e+03, 4.8613e+03, 5.6305e+02, 5.0000e-03, 6.1253e+02, 6.0975e+02,\n",
       "         5.7958e+03, 5.0000e-03, 1.5310e+04, 2.6359e+02],\n",
       "        [3.8052e+01, 4.7811e+02, 3.9960e+02, 4.0160e+03, 0.0000e+00, 5.0000e-03,\n",
       "         4.5397e+02, 9.9705e+03, 6.2219e+02, 2.3281e+02, 7.3677e+02, 1.4870e+03,\n",
       "         6.6572e+03, 8.2906e+02, 8.2648e+02, 5.0000e-03, 5.5328e+02, 2.0115e+02,\n",
       "         1.5609e+03, 5.0000e-03, 1.4742e+03, 2.4584e+03],\n",
       "        [5.0000e-03, 5.0000e-03, 5.0000e-03, 5.0000e-03, 5.0000e-03, 0.0000e+00,\n",
       "         5.0000e-03, 5.0000e-03, 5.0000e-03, 5.0000e-03, 5.0000e-03, 5.0000e-03,\n",
       "         5.0000e-03, 5.0000e-03, 5.0000e-03, 5.0000e-03, 5.0000e-03, 5.0000e-03,\n",
       "         5.0000e-03, 5.0000e-03, 5.0000e-03, 5.0000e-03],\n",
       "        [2.2646e+02, 2.8446e+02, 1.6635e+02, 1.4092e+03, 4.5397e+02, 5.0000e-03,\n",
       "         0.0000e+00, 1.9983e+03, 1.7280e+02, 1.2938e+02, 1.6283e+02, 1.8359e+02,\n",
       "         4.3141e+03, 6.7244e+03, 2.0226e+02, 5.0000e-03, 4.7670e+01, 3.6754e+01,\n",
       "         8.6390e+02, 5.0000e-03, 2.0680e+03, 1.2819e+03],\n",
       "        [4.0601e+03, 1.8577e+03, 1.8868e+03, 3.3165e+02, 9.9705e+03, 5.0000e-03,\n",
       "         1.9983e+03, 0.0000e+00, 3.4559e+03, 1.6465e+03, 1.5244e+03, 1.2534e+03,\n",
       "         4.3619e+03, 1.1744e+04, 1.6922e+03, 5.0000e-03, 2.0103e+03, 3.2090e+03,\n",
       "         8.1189e+03, 5.0000e-03, 1.8193e+04, 2.3521e+03],\n",
       "        [8.5495e+02, 9.3818e+01, 6.8559e+01, 1.4010e+03, 6.2219e+02, 5.0000e-03,\n",
       "         1.7280e+02, 3.4559e+03, 0.0000e+00, 1.0348e+02, 1.4424e+02, 4.4581e+02,\n",
       "         1.1150e+03, 6.8310e+03, 8.9573e+01, 5.0000e-03, 2.1063e+01, 1.4295e+02,\n",
       "         3.6955e+01, 5.0000e-03, 3.4171e+03, 6.2556e+02],\n",
       "        [1.5768e+02, 1.4747e+01, 6.1401e+00, 2.7613e+02, 2.3281e+02, 5.0000e-03,\n",
       "         1.2938e+02, 1.6465e+03, 1.0348e+02, 0.0000e+00, 2.0082e+01, 2.2244e+02,\n",
       "         9.6936e+02, 1.0320e+04, 7.4886e+01, 5.0000e-03, 3.3414e+01, 5.6369e+01,\n",
       "         7.1849e+02, 5.0000e-03, 1.1240e+03, 1.3631e+02],\n",
       "        [4.5506e+02, 1.8038e+01, 4.7618e+00, 5.2892e+02, 7.3677e+02, 5.0000e-03,\n",
       "         1.6283e+02, 1.5244e+03, 1.4424e+02, 2.0082e+01, 0.0000e+00, 1.0105e+02,\n",
       "         6.2452e+02, 1.7096e+04, 7.3212e+01, 5.0000e-03, 3.7312e+01, 1.8306e+02,\n",
       "         6.6970e+02, 5.0000e-03, 1.3211e+03, 3.8876e+02],\n",
       "        [8.2135e+02, 2.2178e+02, 1.5687e+02, 2.5045e+03, 1.4870e+03, 5.0000e-03,\n",
       "         1.8359e+02, 1.2534e+03, 4.4581e+02, 2.2244e+02, 1.0105e+02, 0.0000e+00,\n",
       "         2.8639e+03, 2.2694e+04, 1.4306e+02, 5.0000e-03, 1.7313e+02, 4.2568e+02,\n",
       "         1.2291e+03, 5.0000e-03, 1.7274e+03, 1.9974e+03],\n",
       "        [4.8723e+03, 3.5972e+02, 5.1416e+02, 3.5251e+03, 6.6572e+03, 5.0000e-03,\n",
       "         4.3141e+03, 4.3619e+03, 1.1150e+03, 9.6936e+02, 6.2452e+02, 2.8639e+03,\n",
       "         0.0000e+00, 4.0681e+04, 1.1265e+03, 5.0000e-03, 7.0940e+02, 4.3363e+03,\n",
       "         1.9170e+03, 5.0000e-03, 1.1750e+04, 2.2077e+02],\n",
       "        [4.6645e+03, 1.3345e+04, 1.1549e+04, 4.8613e+03, 8.2906e+02, 5.0000e-03,\n",
       "         6.7244e+03, 1.1744e+04, 6.8310e+03, 1.0320e+04, 1.7096e+04, 2.2694e+04,\n",
       "         4.0681e+04, 0.0000e+00, 1.0208e+04, 5.0000e-03, 8.9704e+03, 4.9052e+03,\n",
       "         1.1393e+04, 5.0000e-03, 2.2678e+04, 1.8662e+04],\n",
       "        [4.3682e+02, 6.1400e+01, 5.2890e+01, 5.6305e+02, 8.2648e+02, 5.0000e-03,\n",
       "         2.0226e+02, 1.6922e+03, 8.9573e+01, 7.4886e+01, 7.3212e+01, 1.4306e+02,\n",
       "         1.1265e+03, 1.0208e+04, 0.0000e+00, 5.0000e-03, 4.9153e+01, 1.4502e+02,\n",
       "         5.9586e+02, 5.0000e-03, 2.2559e+03, 2.7552e+02],\n",
       "        [5.0000e-03, 5.0000e-03, 5.0000e-03, 5.0000e-03, 5.0000e-03, 5.0000e-03,\n",
       "         5.0000e-03, 5.0000e-03, 5.0000e-03, 5.0000e-03, 5.0000e-03, 5.0000e-03,\n",
       "         5.0000e-03, 5.0000e-03, 5.0000e-03, 0.0000e+00, 5.0000e-03, 5.0000e-03,\n",
       "         5.0000e-03, 3.5365e+03, 5.0000e-03, 5.0000e-03],\n",
       "        [4.7738e+02, 3.6593e+01, 2.5685e+01, 6.1253e+02, 5.5328e+02, 5.0000e-03,\n",
       "         4.7670e+01, 2.0103e+03, 2.1063e+01, 3.3414e+01, 3.7312e+01, 1.7313e+02,\n",
       "         7.0940e+02, 8.9704e+03, 4.9153e+01, 5.0000e-03, 0.0000e+00, 6.3786e+01,\n",
       "         2.1169e+02, 5.0000e-03, 2.3834e+03, 3.1144e+02],\n",
       "        [5.6629e+01, 1.8500e+02, 1.1005e+02, 6.0975e+02, 2.0115e+02, 5.0000e-03,\n",
       "         3.6754e+01, 3.2090e+03, 1.4295e+02, 5.6369e+01, 1.8306e+02, 4.2568e+02,\n",
       "         4.3363e+03, 4.9052e+03, 1.4502e+02, 5.0000e-03, 6.3786e+01, 0.0000e+00,\n",
       "         7.3808e+02, 5.0000e-03, 2.1255e+03, 5.2834e+02],\n",
       "        [2.6496e+03, 5.4540e+02, 5.0560e+02, 5.7958e+03, 1.5609e+03, 5.0000e-03,\n",
       "         8.6390e+02, 8.1189e+03, 3.6955e+01, 7.1849e+02, 6.6970e+02, 1.2291e+03,\n",
       "         1.9170e+03, 1.1393e+04, 5.9586e+02, 5.0000e-03, 2.1169e+02, 7.3808e+02,\n",
       "         0.0000e+00, 5.0000e-03, 5.8192e+03, 3.7519e+03],\n",
       "        [5.0000e-03, 5.0000e-03, 5.0000e-03, 5.0000e-03, 5.0000e-03, 5.0000e-03,\n",
       "         5.0000e-03, 5.0000e-03, 5.0000e-03, 5.0000e-03, 5.0000e-03, 5.0000e-03,\n",
       "         5.0000e-03, 5.0000e-03, 5.0000e-03, 3.5365e+03, 5.0000e-03, 5.0000e-03,\n",
       "         5.0000e-03, 0.0000e+00, 5.0000e-03, 5.0000e-03],\n",
       "        [1.2371e+03, 6.0894e+02, 1.2148e+03, 1.5310e+04, 1.4742e+03, 5.0000e-03,\n",
       "         2.0680e+03, 1.8193e+04, 3.4171e+03, 1.1240e+03, 1.3211e+03, 1.7274e+03,\n",
       "         1.1750e+04, 2.2678e+04, 2.2559e+03, 5.0000e-03, 2.3834e+03, 2.1255e+03,\n",
       "         5.8192e+03, 5.0000e-03, 0.0000e+00, 8.2585e+03],\n",
       "        [9.9809e+02, 1.2030e+02, 1.5343e+02, 2.6359e+02, 2.4584e+03, 5.0000e-03,\n",
       "         1.2819e+03, 2.3521e+03, 6.2556e+02, 1.3631e+02, 3.8876e+02, 1.9974e+03,\n",
       "         2.2077e+02, 1.8662e+04, 2.7552e+02, 5.0000e-03, 3.1144e+02, 5.2834e+02,\n",
       "         3.7519e+03, 5.0000e-03, 8.2585e+03, 0.0000e+00]], dtype=torch.float64)"
      ]
     },
     "execution_count": 32,
     "metadata": {},
     "output_type": "execute_result"
    }
   ],
   "source": [
    "A"
   ]
  },
  {
   "cell_type": "code",
   "execution_count": null,
   "metadata": {},
   "outputs": [
    {
     "data": {
      "text/plain": [
       "tensor([1.0000, 1.0000, 1.0000, 1.0000, 1.0000, 1.0000, 1.0000, 1.0000, 1.0000,\n",
       "        1.0000, 1.0000, 1.0000, 1.0000, 1.0000, 1.0000, 1.0000, 1.0000, 1.0000,\n",
       "        1.0000, 1.0000, 1.0000, 1.0000], dtype=torch.float64)"
      ]
     },
     "execution_count": 36,
     "metadata": {},
     "output_type": "execute_result"
    }
   ],
   "source": [
    "A = A + torch.eye(A.shape[0])\n",
    "\n",
    "x=A/ A.sum(dim=-1,keepdim=True)\n",
    "x.sum(dim=-1)"
   ]
  },
  {
   "cell_type": "code",
   "execution_count": null,
   "metadata": {},
   "outputs": [
    {
     "data": {
      "text/plain": [
       "tensor([[4.1373e-05, 1.2851e-02, 1.3132e-02, 6.3527e-02, 1.5743e-03, 2.0686e-07,\n",
       "         9.3692e-03, 1.6797e-01, 3.5371e-02, 6.5237e-03, 1.8827e-02, 3.3981e-02,\n",
       "         2.0158e-01, 1.9298e-01, 1.8072e-02, 2.0686e-07, 1.9750e-02, 2.3429e-03,\n",
       "         1.0962e-01, 2.0686e-07, 5.1184e-02, 4.1294e-02],\n",
       "        [1.6463e-02, 5.3001e-05, 4.8404e-04, 1.6729e-02, 2.5341e-02, 2.6501e-07,\n",
       "         1.5077e-02, 9.8459e-02, 4.9724e-03, 7.8160e-04, 9.5603e-04, 1.1754e-02,\n",
       "         1.9065e-02, 7.0731e-01, 3.2543e-03, 2.6501e-07, 1.9395e-03, 9.8055e-03,\n",
       "         2.8907e-02, 2.6501e-07, 3.2275e-02, 6.3759e-03],\n",
       "        [1.8069e-02, 5.1989e-04, 5.6927e-05, 2.4130e-02, 2.2748e-02, 2.8464e-07,\n",
       "         9.4696e-03, 1.0741e-01, 3.9029e-03, 3.4954e-04, 2.7108e-04, 8.9299e-03,\n",
       "         2.9270e-02, 6.5746e-01, 3.0109e-03, 2.8464e-07, 1.4622e-03, 6.2646e-03,\n",
       "         2.8783e-02, 2.8464e-07, 6.9154e-02, 8.7343e-03],\n",
       "        [3.4673e-02, 7.1272e-03, 9.5717e-03, 2.2581e-05, 9.0686e-02, 1.1291e-07,\n",
       "         3.1821e-02, 7.4890e-03, 3.1636e-02, 6.2353e-03, 1.1944e-02, 5.6555e-02,\n",
       "         7.9601e-02, 1.0977e-01, 1.2714e-02, 1.1291e-07, 1.3832e-02, 1.3769e-02,\n",
       "         1.3088e-01, 1.1291e-07, 3.4572e-01, 5.9522e-03],\n",
       "        [1.1532e-03, 1.4490e-02, 1.2110e-02, 1.2171e-01, 3.0306e-05, 1.5153e-07,\n",
       "         1.3758e-02, 3.0217e-01, 1.8856e-02, 7.0554e-03, 2.2329e-02, 4.5066e-02,\n",
       "         2.0175e-01, 2.5126e-02, 2.5047e-02, 1.5153e-07, 1.6768e-02, 6.0960e-03,\n",
       "         4.7305e-02, 1.5153e-07, 4.4678e-02, 7.4504e-02],\n",
       "        [4.5249e-03, 4.5249e-03, 4.5249e-03, 4.5249e-03, 4.5249e-03, 9.0498e-01,\n",
       "         4.5249e-03, 4.5249e-03, 4.5249e-03, 4.5249e-03, 4.5249e-03, 4.5249e-03,\n",
       "         4.5249e-03, 4.5249e-03, 4.5249e-03, 4.5249e-03, 4.5249e-03, 4.5249e-03,\n",
       "         4.5249e-03, 4.5249e-03, 4.5249e-03, 4.5249e-03],\n",
       "        [1.0926e-02, 1.3724e-02, 8.0254e-03, 6.7986e-02, 2.1902e-02, 2.4123e-07,\n",
       "         4.8245e-05, 9.6409e-02, 8.3368e-03, 6.2421e-03, 7.8558e-03, 8.8574e-03,\n",
       "         2.0814e-01, 3.2442e-01, 9.7582e-03, 2.4123e-07, 2.2998e-03, 1.7732e-03,\n",
       "         4.1679e-02, 2.4123e-07, 9.9770e-02, 6.1848e-02],\n",
       "        [5.0962e-02, 2.3318e-02, 2.3683e-02, 4.1629e-03, 1.2515e-01, 6.2761e-08,\n",
       "         2.5083e-02, 1.2552e-05, 4.3379e-02, 2.0667e-02, 1.9135e-02, 1.5733e-02,\n",
       "         5.4751e-02, 1.4741e-01, 2.1241e-02, 6.2761e-08, 2.5233e-02, 4.0280e-02,\n",
       "         1.0191e-01, 6.2761e-08, 2.2836e-01, 2.9523e-02],\n",
       "        [4.3525e-02, 4.7762e-03, 3.4903e-03, 7.1322e-02, 3.1675e-02, 2.5454e-07,\n",
       "         8.7971e-03, 1.7594e-01, 5.0909e-05, 5.2680e-03, 7.3431e-03, 2.2696e-02,\n",
       "         5.6764e-02, 3.4776e-01, 4.5601e-03, 2.5454e-07, 1.0723e-03, 7.2775e-03,\n",
       "         1.8813e-03, 2.5454e-07, 1.7396e-01, 3.1846e-02],\n",
       "        [9.7078e-03, 9.0789e-04, 3.7802e-04, 1.7000e-02, 1.4333e-02, 3.0783e-07,\n",
       "         7.9655e-03, 1.0137e-01, 6.3707e-03, 6.1565e-05, 1.2364e-03, 1.3695e-02,\n",
       "         5.9679e-02, 6.3533e-01, 4.6104e-03, 3.0783e-07, 2.0571e-03, 3.4704e-03,\n",
       "         4.4234e-02, 3.0783e-07, 6.9197e-02, 8.3922e-03],\n",
       "        [1.8890e-02, 7.4876e-04, 1.9766e-04, 2.1956e-02, 3.0584e-02, 2.0755e-07,\n",
       "         6.7591e-03, 6.3279e-02, 5.9874e-03, 8.3361e-04, 4.1510e-05, 4.1946e-03,\n",
       "         2.5924e-02, 7.0964e-01, 3.0391e-03, 2.0755e-07, 1.5488e-03, 7.5990e-03,\n",
       "         2.7799e-02, 2.0755e-07, 5.4838e-02, 1.6138e-02],\n",
       "        [2.1250e-02, 5.7378e-03, 4.0584e-03, 6.4796e-02, 3.8472e-02, 1.2936e-07,\n",
       "         4.7498e-03, 3.2428e-02, 1.1534e-02, 5.7550e-03, 2.6143e-03, 2.5872e-05,\n",
       "         7.4094e-02, 5.8713e-01, 3.7011e-03, 1.2936e-07, 4.4793e-03, 1.1013e-02,\n",
       "         3.1799e-02, 1.2936e-07, 4.4691e-02, 5.1675e-02],\n",
       "        [5.3589e-02, 3.9564e-03, 5.6551e-03, 3.8771e-02, 7.3220e-02, 5.4994e-08,\n",
       "         4.7450e-02, 4.7975e-02, 1.2264e-02, 1.0662e-02, 6.8689e-03, 3.1499e-02,\n",
       "         1.0999e-05, 4.4744e-01, 1.2390e-02, 5.4994e-08, 7.8025e-03, 4.7694e-02,\n",
       "         2.1085e-02, 5.4994e-08, 1.2924e-01, 2.4282e-03],\n",
       "        [2.0444e-02, 5.8491e-02, 5.0620e-02, 2.1307e-02, 3.6338e-03, 2.1915e-08,\n",
       "         2.9473e-02, 5.1472e-02, 2.9940e-02, 4.5231e-02, 7.4930e-02, 9.9466e-02,\n",
       "         1.7830e-01, 4.3830e-06, 4.4740e-02, 2.1915e-08, 3.9317e-02, 2.1499e-02,\n",
       "         4.9937e-02, 2.1915e-08, 9.9397e-02, 8.1795e-02],\n",
       "        [2.3146e-02, 3.2534e-03, 2.8025e-03, 2.9834e-02, 4.3793e-02, 2.6494e-07,\n",
       "         1.0717e-02, 8.9667e-02, 4.7462e-03, 3.9680e-03, 3.8793e-03, 7.5801e-03,\n",
       "         5.9689e-02, 5.4088e-01, 5.2987e-05, 2.6494e-07, 2.6045e-03, 7.6840e-03,\n",
       "         3.1573e-02, 2.6494e-07, 1.1953e-01, 1.4599e-02],\n",
       "        [1.4134e-06, 1.4134e-06, 1.4134e-06, 1.4134e-06, 1.4134e-06, 1.4134e-06,\n",
       "         1.4134e-06, 1.4134e-06, 1.4134e-06, 1.4134e-06, 1.4134e-06, 1.4134e-06,\n",
       "         1.4134e-06, 1.4134e-06, 1.4134e-06, 2.8268e-04, 1.4134e-06, 1.4134e-06,\n",
       "         1.4134e-06, 9.9969e-01, 1.4134e-06, 1.4134e-06],\n",
       "        [2.8537e-02, 2.1874e-03, 1.5354e-03, 3.6616e-02, 3.3074e-02, 2.9889e-07,\n",
       "         2.8496e-03, 1.2017e-01, 1.2591e-03, 1.9974e-03, 2.2304e-03, 1.0350e-02,\n",
       "         4.2407e-02, 5.3623e-01, 2.9383e-03, 2.9889e-07, 5.9778e-05, 3.8130e-03,\n",
       "         1.2654e-02, 2.9889e-07, 1.4248e-01, 1.8617e-02],\n",
       "        [3.1356e-03, 1.0244e-02, 6.0935e-03, 3.3763e-02, 1.1138e-02, 2.7686e-07,\n",
       "         2.0352e-03, 1.7769e-01, 7.9155e-03, 3.1213e-03, 1.0137e-02, 2.3571e-02,\n",
       "         2.4011e-01, 2.7161e-01, 8.0299e-03, 2.7686e-07, 3.5320e-03, 5.5372e-05,\n",
       "         4.0869e-02, 2.7686e-07, 1.1769e-01, 2.9255e-02],\n",
       "        [5.6229e-02, 1.1574e-02, 1.0730e-02, 1.2299e-01, 3.3125e-02, 1.0611e-07,\n",
       "         1.8333e-02, 1.7229e-01, 7.8423e-04, 1.5247e-02, 1.4212e-02, 2.6083e-02,\n",
       "         4.0682e-02, 2.4178e-01, 1.2645e-02, 1.0611e-07, 4.4923e-03, 1.5663e-02,\n",
       "         2.1221e-05, 1.0611e-07, 1.2349e-01, 7.9619e-02],\n",
       "        [1.4134e-06, 1.4134e-06, 1.4134e-06, 1.4134e-06, 1.4134e-06, 1.4134e-06,\n",
       "         1.4134e-06, 1.4134e-06, 1.4134e-06, 1.4134e-06, 1.4134e-06, 1.4134e-06,\n",
       "         1.4134e-06, 1.4134e-06, 1.4134e-06, 9.9969e-01, 1.4134e-06, 1.4134e-06,\n",
       "         1.4134e-06, 2.8268e-04, 1.4134e-06, 1.4134e-06],\n",
       "        [1.2015e-02, 5.9139e-03, 1.1798e-02, 1.4869e-01, 1.4318e-02, 4.8559e-08,\n",
       "         2.0084e-02, 1.7669e-01, 3.3186e-02, 1.0916e-02, 1.2830e-02, 1.6776e-02,\n",
       "         1.1412e-01, 2.2024e-01, 2.1909e-02, 4.8559e-08, 2.3147e-02, 2.0643e-02,\n",
       "         5.6515e-02, 4.8559e-08, 9.7118e-06, 8.0205e-02],\n",
       "        [2.3328e-02, 2.8116e-03, 3.5860e-03, 6.1608e-03, 5.7459e-02, 1.1686e-07,\n",
       "         2.9962e-02, 5.4974e-02, 1.4621e-02, 3.1860e-03, 9.0864e-03, 4.6683e-02,\n",
       "         5.1600e-03, 4.3618e-01, 6.4397e-03, 1.1686e-07, 7.2791e-03, 1.2349e-02,\n",
       "         8.7690e-02, 1.1686e-07, 1.9302e-01, 2.3373e-05]], dtype=torch.float64)"
      ]
     },
     "execution_count": 37,
     "metadata": {},
     "output_type": "execute_result"
    }
   ],
   "source": [
    "x"
   ]
  }
 ],
 "metadata": {
  "kernelspec": {
   "display_name": "pytorch-deep",
   "language": "python",
   "name": "python3"
  },
  "language_info": {
   "codemirror_mode": {
    "name": "ipython",
    "version": 3
   },
   "file_extension": ".py",
   "mimetype": "text/x-python",
   "name": "python",
   "nbconvert_exporter": "python",
   "pygments_lexer": "ipython3",
   "version": "3.11.9"
  }
 },
 "nbformat": 4,
 "nbformat_minor": 2
}
